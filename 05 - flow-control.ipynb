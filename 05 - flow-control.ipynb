{
 "cells": [
  {
   "cell_type": "markdown",
   "id": "457a8fdb",
   "metadata": {},
   "source": [
    "# Python Flow Control\n",
    "\n",
    "## Objective\n",
    "* how to make a decision using some Python statements\n",
    "* use decision making statements\n",
    "* how to execute specific parts of Python programs\n"
   ]
  },
  {
   "cell_type": "markdown",
   "id": "a87c02c2",
   "metadata": {},
   "source": [
    "## if Statement\n",
    "\n",
    "Use **`if`** statement to execute or skip a block of code\n",
    "\n",
    "* the nested block is defined by the _indentation_\n",
    "\n",
    "* the nested block is executed only if the check passed to `if` is `True`\n",
    "\n",
    "* syntax:\n",
    "```\n",
    "if boolean_statement:\n",
    "\tif_block_statement1\n",
    "\tif_block_statement2\n",
    "other_statement_out_of_if\n",
    "```\n",
    "\n",
    "* in the program above, `if_block_statement1` and `if_block_statement2` are executed only if `boolean_statement` is `True`\n",
    "\n",
    "* example\n",
    "```\n",
    "population = 8600000\n",
    "area = 56000\n",
    "density = population/area\n",
    "if density >= 1000:\n",
    "\tprint('The population is very dense.')\n",
    "print('The estimation is partially done.')\n",
    "```\n"
   ]
  },
  {
   "cell_type": "code",
   "execution_count": 2,
   "id": "e71174e2",
   "metadata": {},
   "outputs": [
    {
     "name": "stdout",
     "output_type": "stream",
     "text": [
      "density: 1535.7142857142858\n",
      "The population is very dense.\n",
      "The estimation is partially done.\n"
     ]
    }
   ],
   "source": [
    "population = 8600000\n",
    "area = 5600\n",
    "density = population/area\n",
    "print('density:', density)\n",
    "if density >= 1000:\n",
    "    print('The population is very dense.')\n",
    "print('The estimation is partially done.')"
   ]
  },
  {
   "cell_type": "markdown",
   "id": "45a82157",
   "metadata": {},
   "source": [
    "## if...else Statement\n",
    "\n",
    "Use **`if..else`** statement to execute exclusively two blocks of code \n",
    "* in case the `boolean_statement` passed to if is evaluated to `True`, the first block (attached to `if`) is executed\n",
    "\n",
    "* otherwise the second block (attached to `else`) is executed\n",
    "\n",
    "* syntax:\n",
    "```\n",
    "if boolean_statement:\n",
    "\tif_block_statement\n",
    "else:\n",
    "\telse_block_statement\n",
    "```\n",
    "\n",
    "* example\n",
    "```\n",
    "population = 8600000\n",
    "area = 56000\n",
    "density = population/area\n",
    "if density >= 1000:\n",
    "\tprint('The population is very dense.')\n",
    "else:\n",
    "\tprint('People are living there.')\n",
    "print('The estimation is covered.')\n",
    "```"
   ]
  },
  {
   "cell_type": "code",
   "execution_count": 2,
   "id": "9592cc56",
   "metadata": {},
   "outputs": [
    {
     "name": "stdout",
     "output_type": "stream",
     "text": [
      "People are living there.\n",
      "The estimation is covered.\n"
     ]
    }
   ],
   "source": [
    "population = 8600000\n",
    "area = 56000\n",
    "density = population/area\n",
    "if density >= 1000:\n",
    "\tprint('The population is very dense.')\n",
    "else:\n",
    "\tprint('People are living there.')\n",
    "print('The estimation is covered.')\n"
   ]
  },
  {
   "cell_type": "markdown",
   "id": "48416530",
   "metadata": {},
   "source": [
    "## if...elif...else Statement\n",
    "\n",
    "**`if...elif...else`** statements are used to chain multiple conditional blocks execution.\n",
    "\n",
    "* **`elif`** means _else if_.  \n",
    "\n",
    "* it takes a boolean statement as argument (like `if`) and is executed only if the first if boolean statement is False.\n",
    "\n",
    "* we can have multiple `elif` statements in the same control flow.\n",
    "\n",
    "* syntax\n",
    "```\n",
    "if boolean_statement1:\n",
    "\tif_block_statement\n",
    "elif boolean_statement2:\n",
    "\telif_block_statement1\n",
    "elif boolean_statement3:\n",
    "\telif_block_statement2\n",
    "else\n",
    "\telse_block_statement\n",
    "```\n",
    "\n",
    "* example\n",
    "```\n",
    "population = 8600000\n",
    "area = 56000\n",
    "density = population/area\n",
    "if density >= 1000:\n",
    "\tprint('The population is very dense.')\n",
    "elif density > 450:\n",
    "\tprint('The population is dense.')\n",
    "else:\n",
    "\tprint('People are living there.')\n",
    "print('The estimation is fully covered.')\n",
    "```"
   ]
  },
  {
   "cell_type": "code",
   "execution_count": 4,
   "id": "e62cb9ee",
   "metadata": {},
   "outputs": [
    {
     "name": "stdout",
     "output_type": "stream",
     "text": [
      "The area is dense.\n",
      "The estimation is fully covered.\n"
     ]
    }
   ],
   "source": [
    "population = 8600000\n",
    "area = 16000\n",
    "density = population/area\n",
    "if density >= 1000:\n",
    "\tprint('The area is very dense.')\n",
    "elif density > 450:\n",
    "\tprint('The area is dense.')\n",
    "else:\n",
    "\tprint('Is someone living there? The density of this area is:', round(density), 'people/km²')\n",
    "print('The estimation is fully covered.')\n"
   ]
  },
  {
   "cell_type": "markdown",
   "id": "a3588eed",
   "metadata": {},
   "source": [
    "## Nested Flow Controls\n",
    "In Python we can have conditional statement flows (**if...elif...else**) inside another conditional statement flow.  \n",
    "\n",
    "```\n",
    "age = 27\n",
    "if age < 20:\n",
    "\tif age < 13:\n",
    "\t\tprint('child')\n",
    "\telse:\n",
    "\t\tprint('teenage')\n",
    "elif age < 70:\n",
    "\tprint('adult')\n",
    "else:\n",
    "\tprint('old')\n",
    "```"
   ]
  },
  {
   "cell_type": "code",
   "execution_count": 10,
   "id": "2474344f",
   "metadata": {},
   "outputs": [
    {
     "name": "stdout",
     "output_type": "stream",
     "text": [
      "adult\n"
     ]
    }
   ],
   "source": [
    "age = 27\n",
    "if age < 20:\n",
    "\tif age < 13:\n",
    "\t\tprint('child')\n",
    "\telse:\n",
    "\t\tprint('teenage')\n",
    "elif age < 70:\n",
    "\tprint('adult')\n",
    "else:\n",
    "\tprint('old')"
   ]
  },
  {
   "cell_type": "markdown",
   "id": "962b51bd",
   "metadata": {},
   "source": [
    "## DIY\n",
    "Reimplement the calculator:\n",
    "\n",
    "**Getting data from the user (read from console)**\n",
    "* read succevily two numbers ($a$ and $b$)\n",
    "* read an arithmetic operator ($op$) (+, -, /, *, **, //, %)\n",
    "\n",
    "**Output the following text:**\n",
    "* $a$ $op$ $b$ = $result$\n",
    "* e.g: `8.2 + 9 = 17.2`\n",
    "\n",
    "**Same for logical operators (or, and, not)**\n"
   ]
  },
  {
   "cell_type": "code",
   "execution_count": 5,
   "id": "7aa449df",
   "metadata": {},
   "outputs": [
    {
     "name": "stdout",
     "output_type": "stream",
     "text": [
      "a? 2\n",
      "b? 3\n",
      "op? %\n",
      "==> 2 % 3 = unknown operator\n"
     ]
    }
   ],
   "source": [
    "s_a = input('a? ')\n",
    "s_b = input('b? ')\n",
    "s_op = input('op? ')\n",
    "a = float(s_a)\n",
    "b = float(s_b)\n",
    "\n",
    "r = None\n",
    "if s_op == '+':\n",
    "    r = a + b\n",
    "elif s_op == '-':\n",
    "    r = a - b\n",
    "elif s_op == '*':\n",
    "    r = a * b\n",
    "elif s_op == '/':\n",
    "    r = a / b\n",
    "elif s_op == '**':\n",
    "    r = a ** b\n",
    "else:\n",
    "    r = 'unknown operator'\n",
    "    \n",
    "print(f'==> {s_a} {s_op} {s_b} = {r}')"
   ]
  }
 ],
 "metadata": {
  "kernelspec": {
   "display_name": "Python 3 (ipykernel)",
   "language": "python",
   "name": "python3"
  },
  "language_info": {
   "codemirror_mode": {
    "name": "ipython",
    "version": 3
   },
   "file_extension": ".py",
   "mimetype": "text/x-python",
   "name": "python",
   "nbconvert_exporter": "python",
   "pygments_lexer": "ipython3",
   "version": "3.8.10"
  }
 },
 "nbformat": 4,
 "nbformat_minor": 5
}

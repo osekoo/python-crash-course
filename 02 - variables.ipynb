{
 "cells": [
  {
   "cell_type": "markdown",
   "id": "ad9a4011",
   "metadata": {},
   "source": [
    "# Variables\n",
    "\n",
    "## Objective\n",
    "* learn how to store data in your programs\n",
    "* learn how to use stored data"
   ]
  },
  {
   "cell_type": "markdown",
   "id": "99e8d6a6",
   "metadata": {},
   "source": [
    "## Definition\n",
    "\n",
    "* **Variable** in Python is a container that holds a <u>value</u> during the program lifecycle\n",
    "  \n",
    "\n",
    "* Variable is identified by a <u>name</u> (see _variables naming rules_)\n",
    "    - `equity`, `stock_price`, `strike`, `isin_code3`, `first_name`, etc.\n",
    "  \n",
    "\n",
    "* <u>Declaring</u> and <u>assigning</u> value to a variable\n",
    "```\n",
    "my_variable = ‘my_value’; print(my_variable)\n",
    "strike = 37.5; print(strike)\n",
    "```"
   ]
  },
  {
   "cell_type": "code",
   "execution_count": 8,
   "id": "67ea52c4",
   "metadata": {},
   "outputs": [
    {
     "name": "stdout",
     "output_type": "stream",
     "text": [
      "my_value\n",
      "37.5\n"
     ]
    }
   ],
   "source": [
    "my_variable = 'my_value'\n",
    "print(my_variable)\n",
    "\n",
    "strike = 37.5\n",
    "print(strike)"
   ]
  },
  {
   "cell_type": "markdown",
   "id": "03af419b",
   "metadata": {},
   "source": [
    "## Operations\n",
    "\n",
    "* **Changing the value of a variable**"
   ]
  },
  {
   "cell_type": "code",
   "execution_count": 4,
   "id": "c84e4fd3",
   "metadata": {},
   "outputs": [
    {
     "name": "stdout",
     "output_type": "stream",
     "text": [
      "105\n",
      "stock price = 99.8$\n"
     ]
    }
   ],
   "source": [
    "price = 105 \n",
    "print(price)\n",
    "price = 'stock price = 99.8$'\n",
    "print(price)"
   ]
  },
  {
   "cell_type": "markdown",
   "id": "2b5c650c",
   "metadata": {},
   "source": [
    "* **Assigning multiple values to multiple variables**"
   ]
  },
  {
   "cell_type": "code",
   "execution_count": 5,
   "id": "a9820e1a",
   "metadata": {},
   "outputs": [
    {
     "name": "stdout",
     "output_type": "stream",
     "text": [
      "8M\n",
      "9.5M\n",
      "0.18\n"
     ]
    }
   ],
   "source": [
    "previous_revenue, current_revenue, actual_return = '8M', '9.5M', 0.18\n",
    "print(previous_revenue);  print(current_revenue);  print(actual_return)"
   ]
  },
  {
   "cell_type": "markdown",
   "id": "d5f3596e",
   "metadata": {},
   "source": [
    "Try this:\n",
    "```\n",
    "x, y = 2, 3, 5\n",
    "print(x); print(y)\n",
    "```\n",
    "What do you get?"
   ]
  },
  {
   "cell_type": "code",
   "execution_count": null,
   "id": "fb3035fd",
   "metadata": {},
   "outputs": [],
   "source": []
  },
  {
   "cell_type": "markdown",
   "id": "f04104bd",
   "metadata": {},
   "source": [
    "Try also this one:\n",
    "```\n",
    "x = 8, 9, '12'; print(x)\n",
    "```\n",
    "What do you get?"
   ]
  },
  {
   "cell_type": "markdown",
   "id": "33c8c689",
   "metadata": {},
   "source": [
    "* **Assigning the same value to multiple variables**\n",
    "```\n",
    "x = y = 3\n",
    "print(x)\n",
    "print(y)\n",
    "```"
   ]
  },
  {
   "cell_type": "markdown",
   "id": "cb612d63",
   "metadata": {},
   "source": [
    "Anaylze this piece of code and try to guess the output of each `print(x)`\n",
    "```\n",
    "price = 41\n",
    "x = price\n",
    "print(x)  # What's the output?\n",
    "\n",
    "price = 36\n",
    "print(x)  # What's the output?\n",
    "```"
   ]
  },
  {
   "cell_type": "markdown",
   "id": "91250cf8",
   "metadata": {},
   "source": [
    "* **Some rules about variables names**\n",
    "    - a variable names are combination of <u>letters</u> (a-z, A-Z), digits (0-9) or <u>underscore</u> (_)\n",
    "    - a variable name must start with a letter or the underscore character\n",
    "    - a variable name <u>cannot start with a digit</u>\n",
    "    - don’t use <u>special characters</u> (@, #, !, ^, etc.) in variable names\n",
    "    - variable names are case-sensitive (`call_price`, `Call_price` and `Call_Price` are three different variables)\n",
    "    - a variable name should make sense (`company_name` vs `cn`)\n",
    "    - variable names cannot be Python keywords (_reserved words_)\n",
    "        * https://docs.python.org/2.5/ref/keywords.html "
   ]
  },
  {
   "cell_type": "code",
   "execution_count": null,
   "id": "4dacd539",
   "metadata": {},
   "outputs": [],
   "source": [
    "print = 3"
   ]
  }
 ],
 "metadata": {
  "kernelspec": {
   "display_name": "Python 3 (ipykernel)",
   "language": "python",
   "name": "python3"
  },
  "language_info": {
   "codemirror_mode": {
    "name": "ipython",
    "version": 3
   },
   "file_extension": ".py",
   "mimetype": "text/x-python",
   "name": "python",
   "nbconvert_exporter": "python",
   "pygments_lexer": "ipython3",
   "version": "3.8.10"
  }
 },
 "nbformat": 4,
 "nbformat_minor": 5
}

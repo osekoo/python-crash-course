{
 "cells": [
  {
   "cell_type": "markdown",
   "id": "14d32225",
   "metadata": {},
   "source": [
    "# Getting Started\n",
    "\n",
    "## Objective\n",
    "- Walk through basic concepts of Python programming\n",
    "- Install Python on your operating system (OS)\n",
    "- Prepare your programming environment\n",
    "- Run your first Python program"
   ]
  },
  {
   "cell_type": "markdown",
   "id": "e2d50a03",
   "metadata": {},
   "source": [
    "## Basic Concepts of Python Programming\n",
    "- **Python is a cross-platform programming language**\n",
    "  * any working python program should run on any operating system\n",
    "- **Python is a scripting language**\n",
    "  * Python codes (scripts) are interpreted at runtime by an interpreter\n",
    "  * Python codes are not compiled into code machine (binary format) before execution\n",
    "  * errors can only be raised at runtime\n",
    "- **the interpretation of the codes could depend on the version of Python interpreter**\n",
    "  * Python has two major versions: 2.x and 3.x\n",
    "  * some 2.x codes might not run with 3.x interpreter\n",
    "  * In this course, we’ll only focus on the 3.x version\n",
    "- **Python is the 3rd most popular programming languages behind Java and C**\n",
    "  * it’s used for various purposes:\n",
    "    - academic (to experiment some theoretical concepts)\n",
    "    - research (artificial intelligence, data science, analytics, etc.)\n",
    "    - industry (effective production software)\n",
    "  * large community contributes to Python expansion\n"
   ]
  },
  {
   "cell_type": "markdown",
   "id": "fd3d7144",
   "metadata": {},
   "source": [
    "## Setting up the programming environment\n",
    "\n",
    "- **Installing Anaconda for Python 3 (3.x)**\n",
    "    * follow the instruction described at https://docs.anaconda.com/anaconda/install/ to install Anaconda on your system\n",
    "    * select the appropriate version according to your operating system\n",
    "    * walking through this tutorial to learn how to use Anaconda https://docs.anaconda.com/anaconda/user-guide/getting-started/ (read the section related to your operating system)\n",
    "  \n",
    "- **Installing Jupyter Notebook and get familiar with it**\n",
    "    * Jupyter notebook is a live coding tool\n",
    "    * install Jupyter Notebook from Anaconda dashboard (`Install` button)\n",
    "    * run Jupyter Notebook (`Launch` button)\n",
    "    * run your first code:\n",
    "        - insert new cell and execute this code:\n",
    "        ```\n",
    "        print(\"Hello world! This is my first python code!\")\n",
    "        ```"
   ]
  },
  {
   "cell_type": "code",
   "execution_count": 1,
   "id": "d34d872e",
   "metadata": {},
   "outputs": [
    {
     "name": "stdout",
     "output_type": "stream",
     "text": [
      "Hello world! This is my first python code!\n"
     ]
    }
   ],
   "source": [
    " print(\"Hello world! This is my first python code!\")"
   ]
  },
  {
   "cell_type": "markdown",
   "id": "0269d71a",
   "metadata": {},
   "source": [
    "## Congratulations! \n",
    "You successfully run your first Python code.  \n",
    "For further: navigate through https://python.org and get inspired!"
   ]
  },
  {
   "cell_type": "markdown",
   "id": "d16f35d4",
   "metadata": {},
   "source": [
    "# Python Code interpretation\n",
    "\n",
    "The Python interpreter performs multiple validations and actions during the code execution\n",
    "* checks if Python keywords are correctly spelled: **semantic analysis**\n",
    "    - try to replace print by pront in our previous example\n",
    "    - what do you get as output?\n",
    "* checks if the keywords and are correctly combined or used (syntax): **syntactic analysis**\n",
    "    - try to execute this code:  `print “Hello world! This is my first Python code!)`\n",
    "    - what do you get as output?\n",
    "    - Can you fix the problem?\n",
    "* replaces **user defined variables** by their values (see next section)\n",
    "* checks the **the data types**\n",
    "* runs the resulting code (may succeed or fail)\n"
   ]
  }
 ],
 "metadata": {
  "kernelspec": {
   "display_name": "Python 3 (ipykernel)",
   "language": "python",
   "name": "python3"
  },
  "language_info": {
   "codemirror_mode": {
    "name": "ipython",
    "version": 3
   },
   "file_extension": ".py",
   "mimetype": "text/x-python",
   "name": "python",
   "nbconvert_exporter": "python",
   "pygments_lexer": "ipython3",
   "version": "3.8.8"
  }
 },
 "nbformat": 4,
 "nbformat_minor": 5
}

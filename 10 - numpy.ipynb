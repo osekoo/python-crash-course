{
 "cells": [
  {
   "cell_type": "markdown",
   "id": "cd082978",
   "metadata": {},
   "source": [
    "# NumPy package\n",
    "\n",
    "## Objective\n",
    "\n",
    "* learn about n-dimensional arrays\n",
    "* understand properties of arrays\n",
    "* learn how to apply functions to n-dimensional arrays"
   ]
  },
  {
   "cell_type": "markdown",
   "id": "db76781f",
   "metadata": {},
   "source": [
    "## Installing NumPy\n",
    "\n",
    "Open a terminal and install NumPy with the following command\n",
    "```\n",
    "python -m pip install numpy\n",
    "```"
   ]
  },
  {
   "cell_type": "markdown",
   "id": "f805e8ea",
   "metadata": {},
   "source": [
    "## Importing NumPy\n",
    "\n",
    "* we import `NumPy` under `np` alias\n",
    "```\n",
    "import numpy as np\n",
    "```"
   ]
  },
  {
   "cell_type": "code",
   "execution_count": 10,
   "id": "1182684a",
   "metadata": {},
   "outputs": [],
   "source": [
    "import numpy as np"
   ]
  },
  {
   "cell_type": "markdown",
   "id": "1819cd76",
   "metadata": {},
   "source": [
    "## NumPy Arrays\n",
    "\n",
    "* the array in NumPy is called **ndarray** (n-dimensional array)\n",
    "* the array is a table (list) of elements. It's created from Python list.\n",
    "* the elements are all of the **same type** and indexed by a tuple of non-negative integers\n",
    "* the dimensions are called _axes_\n"
   ]
  },
  {
   "cell_type": "markdown",
   "id": "45058a35",
   "metadata": {},
   "source": [
    "## Creating Array\n",
    "\n",
    "* we use the `array()` function to create an array\n",
    "\n",
    "* example of definition of a point in a 3D space"
   ]
  },
  {
   "cell_type": "code",
   "execution_count": 11,
   "id": "26264346",
   "metadata": {},
   "outputs": [
    {
     "name": "stdout",
     "output_type": "stream",
     "text": [
      "pointA [0 1 2]\n"
     ]
    }
   ],
   "source": [
    "pointA = np.array([0, 1, 2]) # 3D point called pointA\n",
    "print('pointA:', pointA)"
   ]
  },
  {
   "cell_type": "markdown",
   "id": "4d3cfb62",
   "metadata": {},
   "source": [
    "* example of vector in 3D"
   ]
  },
  {
   "cell_type": "code",
   "execution_count": 18,
   "id": "4c517f09",
   "metadata": {},
   "outputs": [
    {
     "name": "stdout",
     "output_type": "stream",
     "text": [
      "pointB: [3 4 5]\n",
      "vectAB: [[0 1 2]\n",
      " [3 4 5]]\n",
      "vectAB2: [[0 1 2]\n",
      " [3 4 5]]\n"
     ]
    }
   ],
   "source": [
    "pointB = np.array([3, 4, 5]) # 3D point called pointB\n",
    "print('pointB:', pointB)\n",
    "\n",
    "vectAB = np.array([pointA, pointB]) # vector AB\n",
    "print('vectAB:', vectAB)\n",
    "\n",
    "vectAB2 = np.array([[0, 1, 2], \n",
    "                    [3, 4, 5]]) # another definition of vector\n",
    "print('vectAB2:', vectAB2)"
   ]
  },
  {
   "cell_type": "markdown",
   "id": "30d79607",
   "metadata": {},
   "source": [
    "* example of matrix 3x3"
   ]
  },
  {
   "cell_type": "code",
   "execution_count": 20,
   "id": "c7d23cb7",
   "metadata": {},
   "outputs": [
    {
     "name": "stdout",
     "output_type": "stream",
     "text": [
      "matM: [[0 1 2]\n",
      " [3 4 5]\n",
      " [6 7 8]]\n"
     ]
    }
   ],
   "source": [
    "matM = np.array([[0, 1, 2],\n",
    "                [3, 4, 5],\n",
    "                [6, 7, 8]])\n",
    "print('matM:', matM);"
   ]
  },
  {
   "cell_type": "markdown",
   "id": "dbef4ecb",
   "metadata": {},
   "source": [
    "* NumPy Array is of type `ndarray`"
   ]
  },
  {
   "cell_type": "code",
   "execution_count": 22,
   "id": "99d6ecb6",
   "metadata": {},
   "outputs": [
    {
     "data": {
      "text/plain": [
       "numpy.ndarray"
      ]
     },
     "execution_count": 22,
     "metadata": {},
     "output_type": "execute_result"
    }
   ],
   "source": [
    "type(matM)"
   ]
  },
  {
   "cell_type": "markdown",
   "id": "cf0d62d9",
   "metadata": {},
   "source": [
    "## NumPy Array functions"
   ]
  },
  {
   "cell_type": "markdown",
   "id": "5250843f",
   "metadata": {},
   "source": [
    "* we use `ndarray.ndim` to get the number of axes of the array"
   ]
  },
  {
   "cell_type": "code",
   "execution_count": 25,
   "id": "1ad5c616",
   "metadata": {},
   "outputs": [
    {
     "name": "stdout",
     "output_type": "stream",
     "text": [
      "dim of pointA: 1\n",
      "dim of pointB: 1\n",
      "dim of matM: 2\n"
     ]
    }
   ],
   "source": [
    "print('dim of pointA:', pointA.ndim)\n",
    "print('dim of pointB:', pointB.ndim)\n",
    "print('dim of matM:', matM.ndim)"
   ]
  },
  {
   "cell_type": "markdown",
   "id": "f9adfdab",
   "metadata": {},
   "source": [
    "* we use `ndarray.shape` to get the dimensions of the array. It's a tuple of integers indicating the size of the array in each dimension"
   ]
  },
  {
   "cell_type": "code",
   "execution_count": 27,
   "id": "38379fa5",
   "metadata": {},
   "outputs": [
    {
     "name": "stdout",
     "output_type": "stream",
     "text": [
      "shape of pointB: (3,)\n",
      "shape of matM: (3, 3)\n"
     ]
    }
   ],
   "source": [
    "print('shape of pointB:', pointB.shape)\n",
    "print('shape of matM:', matM.shape)"
   ]
  },
  {
   "cell_type": "code",
   "execution_count": 37,
   "id": "2d5985af",
   "metadata": {},
   "outputs": [
    {
     "name": "stdout",
     "output_type": "stream",
     "text": [
      "[[0 1 2]\n",
      " [0 0 0]\n",
      " [3 4 5]\n",
      " [3 4 5]\n",
      " [0 1 2]]\n",
      "shape of matN: (5, 3)\n"
     ]
    }
   ],
   "source": [
    "matN = np.array([pointA, [0, 0, 0], pointB, pointB, pointA])\n",
    "print(matN)\n",
    "print('shape of matN:', matN.shape)"
   ]
  },
  {
   "cell_type": "markdown",
   "id": "feccb38f",
   "metadata": {},
   "source": [
    "* we use `ndarray.size` to get the total number of elements of the array. It's the product of the elements of `shape`."
   ]
  },
  {
   "cell_type": "code",
   "execution_count": 48,
   "id": "3ac1043a",
   "metadata": {},
   "outputs": [
    {
     "name": "stdout",
     "output_type": "stream",
     "text": [
      "nb. of elements of matN: 15\n"
     ]
    },
    {
     "data": {
      "text/plain": [
       "15"
      ]
     },
     "execution_count": 48,
     "metadata": {},
     "output_type": "execute_result"
    }
   ],
   "source": [
    "print('nb. of elements of matN:', matN.size)"
   ]
  },
  {
   "cell_type": "markdown",
   "id": "b3eb06fd",
   "metadata": {},
   "source": [
    "* we use `ndarray.dtype` to get the type of elements stored in the array.\n",
    "* you can specify the dtype on array creation"
   ]
  },
  {
   "cell_type": "code",
   "execution_count": 41,
   "id": "935bc1e0",
   "metadata": {},
   "outputs": [
    {
     "name": "stdout",
     "output_type": "stream",
     "text": [
      "type of elements in matN: int64\n"
     ]
    }
   ],
   "source": [
    "print('type of elements in matN:', matN.dtype)"
   ]
  },
  {
   "cell_type": "code",
   "execution_count": 50,
   "id": "d5178402",
   "metadata": {},
   "outputs": [
    {
     "name": "stdout",
     "output_type": "stream",
     "text": [
      "[[1]\n",
      " [2]\n",
      " [3]]\n"
     ]
    },
    {
     "data": {
      "text/plain": [
       "dtype('int32')"
      ]
     },
     "execution_count": 50,
     "metadata": {},
     "output_type": "execute_result"
    }
   ],
   "source": [
    "g = np.array([[1], [2], [3]], dtype=np.int32)\n",
    "print(g)\n",
    "g.dtype"
   ]
  },
  {
   "cell_type": "code",
   "execution_count": 49,
   "id": "f7e5e508",
   "metadata": {},
   "outputs": [
    {
     "name": "stdout",
     "output_type": "stream",
     "text": [
      "[[1.]\n",
      " [2.]\n",
      " [3.]]\n"
     ]
    },
    {
     "data": {
      "text/plain": [
       "dtype('float64')"
      ]
     },
     "execution_count": 49,
     "metadata": {},
     "output_type": "execute_result"
    }
   ],
   "source": [
    "h = np.array([[1], [2], [3]], dtype=np.float64)\n",
    "print(h)\n",
    "h.dtype"
   ]
  },
  {
   "cell_type": "markdown",
   "id": "a9a90e67",
   "metadata": {},
   "source": [
    "* we use `ndarray.reshape` to reshape the array"
   ]
  },
  {
   "cell_type": "code",
   "execution_count": 57,
   "id": "4d0b2b8e",
   "metadata": {},
   "outputs": [
    {
     "name": "stdout",
     "output_type": "stream",
     "text": [
      "matN: [[0 1 2]\n",
      " [0 0 0]\n",
      " [3 4 5]\n",
      " [3 4 5]\n",
      " [0 1 2]] shape: (5, 3)\n",
      "matN2: [[0 1 2 0 0]\n",
      " [0 3 4 5 3]\n",
      " [4 5 0 1 2]] shape: (3, 5)\n"
     ]
    }
   ],
   "source": [
    "matN2 = matN.reshape(3, 5)\n",
    "\n",
    "print('matN:', matN, 'shape:', matN.shape)\n",
    "print('matN2:', matN2, 'shape:', matN2.shape)"
   ]
  },
  {
   "cell_type": "markdown",
   "id": "ffcb8fab",
   "metadata": {},
   "source": [
    "## Slicing NumPy Array\n",
    "\n",
    "* we use array slicing to extract a range of elements from the Python array\n",
    "* we slice and index NumPy arrays in the same ways we slice Python lists\n",
    "* some examples\n",
    "  \n",
    "  \n",
    "* the first element of the array along the first dimension (axe)"
   ]
  },
  {
   "cell_type": "code",
   "execution_count": 67,
   "id": "70281b28",
   "metadata": {},
   "outputs": [
    {
     "name": "stdout",
     "output_type": "stream",
     "text": [
      "[0 1 2]\n",
      "[[0 1 2]\n",
      " [0 0 0]]\n"
     ]
    }
   ],
   "source": [
    "x = matN[0] # the first element of the array along the first dimension (axe)\n",
    "print(x)"
   ]
  },
  {
   "cell_type": "markdown",
   "id": "9f68fcb4",
   "metadata": {},
   "source": [
    "* the first two elements of the array along the axe=0"
   ]
  },
  {
   "cell_type": "code",
   "execution_count": 68,
   "id": "589bb505",
   "metadata": {},
   "outputs": [
    {
     "name": "stdout",
     "output_type": "stream",
     "text": [
      "[[0 1 2]\n",
      " [0 0 0]]\n"
     ]
    }
   ],
   "source": [
    "y = matN[:2] # the first two elements of the array along the axe=0\n",
    "print(y)"
   ]
  },
  {
   "cell_type": "markdown",
   "id": "550e50d7",
   "metadata": {},
   "source": [
    "* extract the first element along the 2nd dimension"
   ]
  },
  {
   "cell_type": "code",
   "execution_count": 70,
   "id": "902629a8",
   "metadata": {},
   "outputs": [
    {
     "name": "stdout",
     "output_type": "stream",
     "text": [
      "[0 0 3 3 0]\n"
     ]
    }
   ],
   "source": [
    "z = matN[:, 0]\n",
    "print(z) # the first two elements of the array along the axe=0"
   ]
  },
  {
   "cell_type": "markdown",
   "id": "099c9c12",
   "metadata": {},
   "source": [
    "* extract a section of the array"
   ]
  },
  {
   "cell_type": "code",
   "execution_count": 74,
   "id": "898d1cea",
   "metadata": {},
   "outputs": [
    {
     "name": "stdout",
     "output_type": "stream",
     "text": [
      "[[0 0]\n",
      " [4 5]\n",
      " [4 5]]\n"
     ]
    }
   ],
   "source": [
    "t = matN[1:4, 1:3]\n",
    "print(t)"
   ]
  },
  {
   "cell_type": "markdown",
   "id": "a4bd4c34",
   "metadata": {},
   "source": [
    "* we can extract elements from the array based on certain conditions"
   ]
  },
  {
   "cell_type": "code",
   "execution_count": 82,
   "id": "66ab423d",
   "metadata": {},
   "outputs": [
    {
     "name": "stdout",
     "output_type": "stream",
     "text": [
      "[1 2 3 4 5 3 4 5 1 2]\n",
      "[2 3 3 2]\n",
      "[0 2 0 0 0 4 4 0 2]\n"
     ]
    }
   ],
   "source": [
    "print(matN[matN != 0])\n",
    "print(matN[(matN <= 3) & (matN > 1)])\n",
    "print(matN[matN%2 == 0])"
   ]
  },
  {
   "cell_type": "markdown",
   "id": "ecaca471",
   "metadata": {},
   "source": [
    "* we use `np.nonzero()` to extract indices from an array based on certain condition"
   ]
  },
  {
   "cell_type": "code",
   "execution_count": 84,
   "id": "0ccf0945",
   "metadata": {},
   "outputs": [
    {
     "name": "stdout",
     "output_type": "stream",
     "text": [
      "(array([0, 2, 2, 2, 3, 3, 3, 4]), array([2, 0, 1, 2, 0, 1, 2, 2]))\n"
     ]
    }
   ],
   "source": [
    "e = np.nonzero(matN > 1)\n",
    "print(e)"
   ]
  },
  {
   "cell_type": "code",
   "execution_count": 85,
   "id": "5b0ab7f2",
   "metadata": {},
   "outputs": [
    {
     "name": "stdout",
     "output_type": "stream",
     "text": [
      "[(0, 2), (2, 0), (2, 1), (2, 2), (3, 0), (3, 1), (3, 2), (4, 2)]\n"
     ]
    }
   ],
   "source": [
    "r = list(zip(e[0], e[1]))\n",
    "print(r)"
   ]
  },
  {
   "cell_type": "markdown",
   "id": "248d16fd",
   "metadata": {},
   "source": [
    "* we use `np.vstack()` to stack arrays vertically"
   ]
  },
  {
   "cell_type": "code",
   "execution_count": 86,
   "id": "48062168",
   "metadata": {},
   "outputs": [
    {
     "name": "stdout",
     "output_type": "stream",
     "text": [
      "a: [[1 1]\n",
      " [3 3]]\n",
      "b: [[2 2]\n",
      " [4 4]]\n",
      "v: [[1 1]\n",
      " [3 3]\n",
      " [2 2]\n",
      " [4 4]]\n"
     ]
    }
   ],
   "source": [
    "a = np.array([[1, 1], [3, 3]])\n",
    "b = np.array([[2, 2], [4, 4]])\n",
    "v = np.vstack((a, b))\n",
    "print('a:', a)\n",
    "print('b:', b)\n",
    "print('v:', v)"
   ]
  },
  {
   "cell_type": "markdown",
   "id": "5a7e7125",
   "metadata": {},
   "source": [
    "* we use `np.hstack()` to stack arrays horizontally"
   ]
  },
  {
   "cell_type": "code",
   "execution_count": 88,
   "id": "5811b466",
   "metadata": {},
   "outputs": [
    {
     "name": "stdout",
     "output_type": "stream",
     "text": [
      "h: [[1 1 2 2]\n",
      " [3 3 4 4]]\n"
     ]
    }
   ],
   "source": [
    "h = np.hstack((a, b))\n",
    "print('h:', h)"
   ]
  },
  {
   "cell_type": "markdown",
   "id": "65413aa1",
   "metadata": {},
   "source": [
    "* we use `np.arange()` to generate a list of integers "
   ]
  },
  {
   "cell_type": "code",
   "execution_count": 95,
   "id": "68ed2900",
   "metadata": {},
   "outputs": [
    {
     "name": "stdout",
     "output_type": "stream",
     "text": [
      "[ 1  2  3  4  5  6  7  8  9 10 11 12 13 14 15 16 17 18 19 20 21 22 23 24\n",
      " 25 26 27 28 29 30 31 32 33 34 35 36]\n"
     ]
    }
   ],
   "source": [
    "s = np.arange(1, 37)\n",
    "print(s)"
   ]
  },
  {
   "cell_type": "code",
   "execution_count": 96,
   "id": "c5ec0460",
   "metadata": {},
   "outputs": [
    {
     "name": "stdout",
     "output_type": "stream",
     "text": [
      "[[ 1  2  3  4  5  6  7  8  9]\n",
      " [10 11 12 13 14 15 16 17 18]\n",
      " [19 20 21 22 23 24 25 26 27]\n",
      " [28 29 30 31 32 33 34 35 36]]\n"
     ]
    }
   ],
   "source": [
    "w = s.reshape(4, 9)\n",
    "print(w)"
   ]
  },
  {
   "cell_type": "markdown",
   "id": "14911cf4",
   "metadata": {},
   "source": [
    "* we use `np.ones()` to generate an array where all elements are equal to 1"
   ]
  },
  {
   "cell_type": "code",
   "execution_count": 118,
   "id": "64023483",
   "metadata": {},
   "outputs": [
    {
     "name": "stdout",
     "output_type": "stream",
     "text": [
      "[1. 1. 1. 1. 1. 1. 1. 1. 1. 1. 1. 1.]\n"
     ]
    }
   ],
   "source": [
    "o = np.ones(12)\n",
    "print(o)"
   ]
  },
  {
   "cell_type": "code",
   "execution_count": 119,
   "id": "b4f351ae",
   "metadata": {},
   "outputs": [
    {
     "name": "stdout",
     "output_type": "stream",
     "text": [
      "[[[1. 1.]\n",
      "  [1. 1.]\n",
      "  [1. 1.]]\n",
      "\n",
      " [[1. 1.]\n",
      "  [1. 1.]\n",
      "  [1. 1.]]]\n"
     ]
    }
   ],
   "source": [
    "print(o.reshape(2, 3, 2))"
   ]
  },
  {
   "cell_type": "markdown",
   "id": "0636719e",
   "metadata": {},
   "source": [
    "* we use `np.identity()` to generate a square identity array with ones on the main diagonal"
   ]
  },
  {
   "cell_type": "code",
   "execution_count": 120,
   "id": "7cfbeacd",
   "metadata": {},
   "outputs": [
    {
     "name": "stdout",
     "output_type": "stream",
     "text": [
      "[[1. 0. 0. 0. 0.]\n",
      " [0. 1. 0. 0. 0.]\n",
      " [0. 0. 1. 0. 0.]\n",
      " [0. 0. 0. 1. 0.]\n",
      " [0. 0. 0. 0. 1.]]\n"
     ]
    }
   ],
   "source": [
    "id = np.identity(5)\n",
    "print(id)"
   ]
  },
  {
   "cell_type": "markdown",
   "id": "e3e85219",
   "metadata": {},
   "source": [
    "* we use `np.random.rand()` to generate a random floats array between 0 an 1"
   ]
  },
  {
   "cell_type": "code",
   "execution_count": 131,
   "id": "472c3668",
   "metadata": {},
   "outputs": [
    {
     "name": "stdout",
     "output_type": "stream",
     "text": [
      "[[0.85299007 0.29584367 0.38459538 0.400023   0.41506865]\n",
      " [0.3163114  0.11993919 0.97547786 0.19917045 0.97548425]\n",
      " [0.86356129 0.19896953 0.24663959 0.43772593 0.10207561]\n",
      " [0.66730612 0.61814151 0.92050238 0.29670701 0.37570151]]\n"
     ]
    }
   ],
   "source": [
    "r = np.random.rand(4, 5)\n",
    "print(r)"
   ]
  },
  {
   "cell_type": "markdown",
   "id": "c811753f",
   "metadata": {},
   "source": [
    "* we use `np.hsplit()` to split horizontally an array to small chuncks"
   ]
  },
  {
   "cell_type": "code",
   "execution_count": 102,
   "id": "bd73256f",
   "metadata": {},
   "outputs": [
    {
     "name": "stdout",
     "output_type": "stream",
     "text": [
      "[array([[ 1,  2,  3],\n",
      "       [10, 11, 12],\n",
      "       [19, 20, 21],\n",
      "       [28, 29, 30]]), array([[ 4,  5,  6],\n",
      "       [13, 14, 15],\n",
      "       [22, 23, 24],\n",
      "       [31, 32, 33]]), array([[ 7,  8,  9],\n",
      "       [16, 17, 18],\n",
      "       [25, 26, 27],\n",
      "       [34, 35, 36]])]\n"
     ]
    }
   ],
   "source": [
    "x = np.hsplit(w, 3)\n",
    "print(x)"
   ]
  },
  {
   "cell_type": "markdown",
   "id": "bb93800d",
   "metadata": {},
   "source": [
    "* we use `np.vsplit()` to split vertically an array to small chuncks"
   ]
  },
  {
   "cell_type": "code",
   "execution_count": 105,
   "id": "e6c8540c",
   "metadata": {},
   "outputs": [
    {
     "name": "stdout",
     "output_type": "stream",
     "text": [
      "[array([[ 1,  2,  3,  4,  5,  6,  7,  8,  9],\n",
      "       [10, 11, 12, 13, 14, 15, 16, 17, 18]]), array([[19, 20, 21, 22, 23, 24, 25, 26, 27],\n",
      "       [28, 29, 30, 31, 32, 33, 34, 35, 36]])]\n"
     ]
    }
   ],
   "source": [
    "y = np.vsplit(w, 2)\n",
    "print(y)"
   ]
  },
  {
   "cell_type": "markdown",
   "id": "480ec9b3",
   "metadata": {},
   "source": [
    "* we use `view` to create a new array that shares the same data (in memory) as the original array (_shallow copy_)"
   ]
  },
  {
   "cell_type": "code",
   "execution_count": 113,
   "id": "ab2ac941",
   "metadata": {},
   "outputs": [
    {
     "name": "stdout",
     "output_type": "stream",
     "text": [
      "d: [[100 100 100 100 100 100 100 100 100]\n",
      " [ 10  11  12  13  14  15  16  17  18]\n",
      " [ 19  20  21  22  23  24  25  26  27]\n",
      " [ 28  29  30  31  32  33  34  35  36]]\n",
      "w: [[100 100 100 100 100 100 100 100 100]\n",
      " [ 10  11  12  13  14  15  16  17  18]\n",
      " [ 19  20  21  22  23  24  25  26  27]\n",
      " [ 28  29  30  31  32  33  34  35  36]]\n"
     ]
    }
   ],
   "source": [
    "d = w.view() # shallow copy\n",
    "d[0] = 100\n",
    "print('d:', d)\n",
    "print('w:', w)"
   ]
  },
  {
   "cell_type": "code",
   "execution_count": 112,
   "id": "b5137d72",
   "metadata": {},
   "outputs": [
    {
     "name": "stdout",
     "output_type": "stream",
     "text": [
      "d: [[100 100 100 100 100 100 100 100 100]\n",
      " [ 10  11  12  13  14  15  16  17  18]\n",
      " [ 19  20  21  22  23  24  25  26  27]\n",
      " [ 28  29  30  31  32  33  34  35  36]]\n",
      "f: [[100 100 100 100]\n",
      " [100 100 100 100]\n",
      " [100  10  11  12]\n",
      " [ 13  14  15  16]\n",
      " [ 17  18  19  20]\n",
      " [ 21  22  23  24]\n",
      " [ 25  26  27  28]\n",
      " [ 29  30  31  32]\n",
      " [ 33  34  35  36]]\n"
     ]
    }
   ],
   "source": [
    "f = d.reshape(9, 4) # deep copy\n",
    "print('d:', d)\n",
    "print('f:', f)"
   ]
  },
  {
   "cell_type": "markdown",
   "id": "6c20d9c0",
   "metadata": {},
   "source": [
    "* we use `ndarray.copy()` to make element-wise copy (_deep copy_)"
   ]
  },
  {
   "cell_type": "code",
   "execution_count": 115,
   "id": "437de178",
   "metadata": {},
   "outputs": [
    {
     "name": "stdout",
     "output_type": "stream",
     "text": [
      "w: [[100 100 100 100 100 100 100 100 100]\n",
      " [ 10  11  12  13  14  15  16  17  18]\n",
      " [ 19  20  21  22  23  24  25  26  27]\n",
      " [ 28  29  30  31  32  33  34  35  36]]\n",
      "u: [[-1 -1 -1 -1 -1 -1 -1 -1 -1]\n",
      " [10 11 12 13 14 15 16 17 18]\n",
      " [19 20 21 22 23 24 25 26 27]\n",
      " [28 29 30 31 32 33 34 35 36]]\n"
     ]
    }
   ],
   "source": [
    "u = w.copy() # deep copy\n",
    "u[0] = -1\n",
    "print('w:', w)\n",
    "print('u:', u)"
   ]
  },
  {
   "cell_type": "markdown",
   "id": "69815fec",
   "metadata": {},
   "source": [
    "## Some additional array operations\n",
    "\n",
    "* we can perform arithmetic (element-wise) operations on arrays (+, -, *, \\/)"
   ]
  },
  {
   "cell_type": "code",
   "execution_count": 126,
   "id": "f3d9ca3c",
   "metadata": {},
   "outputs": [
    {
     "name": "stdout",
     "output_type": "stream",
     "text": [
      "[[ 1  2  3  4  5  6]\n",
      " [ 7  8  9 10 11 12]\n",
      " [13 14 15 16 17 18]]\n",
      "[[1. 1. 1. 1. 1. 1.]\n",
      " [1. 1. 1. 1. 1. 1.]\n",
      " [1. 1. 1. 1. 1. 1.]]\n",
      "[[ 2.  3.  4.  5.  6.  7.]\n",
      " [ 8.  9. 10. 11. 12. 13.]\n",
      " [14. 15. 16. 17. 18. 19.]]\n",
      "[[ 0.  1.  2.  3.  4.  5.]\n",
      " [ 6.  7.  8.  9. 10. 11.]\n",
      " [12. 13. 14. 15. 16. 17.]]\n",
      "[[ 1.  2.  3.  4.  5.  6.]\n",
      " [ 7.  8.  9. 20. 11. 12.]\n",
      " [13. 14. 15. 16. 17. 18.]]\n",
      "[[ 1.  2.  3.  4.  5.  6.]\n",
      " [ 7.  8.  9.  5. 11. 12.]\n",
      " [13. 14. 15. 16. 17. 18.]]\n"
     ]
    }
   ],
   "source": [
    "m = np.arange(1, 19).reshape(3, 6)\n",
    "g = np.ones(18).reshape(3, 6)\n",
    "print(m)\n",
    "print(g)\n",
    "print(m + g)\n",
    "print(m - g)\n",
    "g[1, 3] = 2\n",
    "print(m * g)\n",
    "print(m / g)"
   ]
  },
  {
   "cell_type": "code",
   "execution_count": 135,
   "id": "d6b2ac75",
   "metadata": {},
   "outputs": [
    {
     "name": "stdout",
     "output_type": "stream",
     "text": [
      "[[0.05388048 3.68526438 8.56195232 7.01967268 9.92931988 2.82696755]\n",
      " [4.35378631 4.19012369 5.13189142 2.37789334 3.11135479 2.39096757]\n",
      " [4.78577088 4.94608449 5.00428148 5.78190943 4.67798949 9.63085714]]\n"
     ]
    }
   ],
   "source": [
    "x = np.random.rand(3, 6) * 10\n",
    "print(x)"
   ]
  },
  {
   "cell_type": "markdown",
   "id": "1efb46cf",
   "metadata": {},
   "source": [
    "* we can compute maximum, minimum, sum, mean, product, standard deviation, etc. of an array"
   ]
  },
  {
   "cell_type": "code",
   "execution_count": 140,
   "id": "3504cacb",
   "metadata": {},
   "outputs": [
    {
     "name": "stdout",
     "output_type": "stream",
     "text": [
      "max: 9.929319880576177\n",
      "min: 0.053880480065086056\n",
      "sum: 88.45996731192098\n",
      "meam: 4.914442628440054\n",
      "stdv: 2.4988531275161576\n",
      "median: 4.731880187231791\n"
     ]
    }
   ],
   "source": [
    "print('max:', x.max())\n",
    "print('min:', x.min())\n",
    "print('sum:', x.sum())\n",
    "print('meam:', x.mean())\n",
    "print('stdv:', x.std())\n",
    "print('median:', np.median(x))"
   ]
  },
  {
   "cell_type": "markdown",
   "id": "efeb850a",
   "metadata": {},
   "source": [
    "* the same operations can be performed along a specific axe"
   ]
  },
  {
   "cell_type": "code",
   "execution_count": 143,
   "id": "cedd9b6f",
   "metadata": {},
   "outputs": [
    {
     "name": "stdout",
     "output_type": "stream",
     "text": [
      "max: [4.78577088 4.94608449 8.56195232 7.01967268 9.92931988 9.63085714]\n",
      "min: [0.05388048 2.37789334 4.67798949]\n",
      "sum: [ 9.19343767 12.82147257 18.69812522 15.17947544 17.71866416 14.84879226]\n",
      "meam: [3.06447922 4.27382419 6.23270841 5.05982515 5.90622139 4.94959742]\n",
      "stdv: [3.44626481 1.03737545 1.74764513]\n",
      "median: [5.35246853 3.65073924 4.97518299]\n"
     ]
    }
   ],
   "source": [
    "print('max:', x.max(axis=0))\n",
    "print('min:', x.min(axis=1))\n",
    "print('sum:', x.sum(axis=0))\n",
    "print('meam:', x.mean(axis=0))\n",
    "print('stdv:', x.std(axis=1))\n",
    "print('median:', np.median(x, axis=1))"
   ]
  },
  {
   "cell_type": "code",
   "execution_count": null,
   "id": "b8bb21b2",
   "metadata": {},
   "outputs": [],
   "source": []
  }
 ],
 "metadata": {
  "kernelspec": {
   "display_name": "Python 3 (ipykernel)",
   "language": "python",
   "name": "python3"
  },
  "language_info": {
   "codemirror_mode": {
    "name": "ipython",
    "version": 3
   },
   "file_extension": ".py",
   "mimetype": "text/x-python",
   "name": "python",
   "nbconvert_exporter": "python",
   "pygments_lexer": "ipython3",
   "version": "3.8.10"
  }
 },
 "nbformat": 4,
 "nbformat_minor": 5
}

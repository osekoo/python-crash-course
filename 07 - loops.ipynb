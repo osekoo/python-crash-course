{
 "cells": [
  {
   "cell_type": "markdown",
   "id": "da687541",
   "metadata": {},
   "source": [
    "# Loop in Python\n",
    "\n",
    "## Objective\n",
    "\n",
    "* learn how to iterate over sequences\n",
    "\n",
    "* learn how to repeat a specific block of code\n"
   ]
  },
  {
   "cell_type": "markdown",
   "id": "b880048b",
   "metadata": {},
   "source": [
    "## Python _for_ Loop Statement\n",
    "\n",
    "* **`for` loop** statement is used to **iterate** over a sequence (List, String).  \n",
    "\n",
    "* syntax\n",
    "```\n",
    "for item in sequence:\n",
    "\tblock_statement\n",
    "```\n",
    "    - **item** is an element (the current) of the sequence\n",
    "    - **item** can be used in the block_statement"
   ]
  },
  {
   "cell_type": "code",
   "execution_count": 1,
   "id": "fd2f58b5",
   "metadata": {},
   "outputs": [
    {
     "name": "stdout",
     "output_type": "stream",
     "text": [
      "Market opening days:\n",
      "\tThe market opens on Mondays.\n",
      "\tThe market opens on Tuesdays.\n",
      "\tThe market opens on Wednesdays.\n",
      "\tThe market opens on Thursdays.\n",
      "\tThe market opens on Fridays.\n",
      "Done.\n"
     ]
    }
   ],
   "source": [
    "business_days = ['Monday', 'Tuesday', 'Wednesday', 'Thursday', 'Friday']\n",
    "print('Market opening days:')\n",
    "for toto in business_days:\n",
    "\tprint(f'\\tThe market opens on {toto}s.')\n",
    "print('Done.')"
   ]
  },
  {
   "cell_type": "markdown",
   "id": "e777dc3d",
   "metadata": {},
   "source": [
    "* **for loop** statement can be used with `range()`\n",
    "    - `range()` is used to generate a sequence of integers\n",
    "    - we use `range()` to generate list of indices and use them to iterate over a sequence\n",
    "    - example:"
   ]
  },
  {
   "cell_type": "code",
   "execution_count": 3,
   "id": "a1c7e071",
   "metadata": {},
   "outputs": [
    {
     "name": "stdout",
     "output_type": "stream",
     "text": [
      "The market opens on Mondays.\n",
      "The market opens on Tuesdays.\n",
      "The market opens on Wednesdays.\n",
      "The market opens on Thursdays.\n",
      "The market opens on Fridays.\n"
     ]
    }
   ],
   "source": [
    "business_days = ['Monday', 'Tuesday', 'Wednesday', 'Thursday', 'Friday']\n",
    "number_of_days = len(business_days)\n",
    "for i in range(number_of_days):\n",
    "    day = business_days[i] # i is used to access the i-th element in business_days\n",
    "    print(f'The market opens on {day}s.')"
   ]
  },
  {
   "cell_type": "markdown",
   "id": "1390fad9",
   "metadata": {},
   "source": [
    "* **for loop** statement can be used with **else**\n",
    "    - the **else** block will be executed at the end of the **for** loop\n",
    "    - example:"
   ]
  },
  {
   "cell_type": "code",
   "execution_count": 5,
   "id": "ab8ae8c1",
   "metadata": {},
   "outputs": [
    {
     "name": "stdout",
     "output_type": "stream",
     "text": [
      "The market opens on Mondays.\n",
      "The market opens on Tuesdays.\n",
      "The market opens on Wednesdays.\n",
      "The market opens on Thursdays.\n",
      "The market opens on Fridays.\n",
      "End of the market opening days.\n"
     ]
    }
   ],
   "source": [
    "business_days = ['Monday', 'Tuesday', 'Wednesday', 'Thursday', 'Friday']\n",
    "number_of_days = len(business_days)\n",
    "for i in range(number_of_days):\n",
    "\tday = business_days[i] # i is used to access the i-th element in business_days\n",
    "\tprint(f'The market opens on {day}s.')\n",
    "else:\n",
    "\tprint(f'End of the market opening days.')"
   ]
  },
  {
   "cell_type": "markdown",
   "id": "306af9a1",
   "metadata": {},
   "source": [
    "## Python _while_ Loop Statement\n",
    "\n",
    "* **`while` loop** in Python is used to repeat a block of code under **certain condition**\n",
    "\n",
    "* `while` takes a boolean statement as an argument.\n",
    "\n",
    "* The block of statement nested to `while` is executed as long as the boolean statement is evaluated to `True`\n",
    "\n",
    "* syntax\n",
    "```\n",
    "while boolean_statement:\n",
    "\twhile_block_statement\n",
    "```\n",
    "\n",
    "* `while` loop is terminated when its boolean statement is evaluated to `False`.\n",
    "\n",
    "* the boolean statement can be update in `while_block_statement`\n",
    "\n",
    "* `else` statement can used at the end of `while` loop\n",
    "```\n",
    "while boolean_statement:\n",
    "\twhile_block_statement\n",
    "else:\n",
    "\telse_block_statement\n",
    "```\n",
    "* example\n"
   ]
  },
  {
   "cell_type": "code",
   "execution_count": 8,
   "id": "a1dfa42b",
   "metadata": {},
   "outputs": [
    {
     "name": "stdout",
     "output_type": "stream",
     "text": [
      "Fibonacci terms:\n",
      "1\n",
      "2\n",
      "3\n",
      "5\n",
      "8\n",
      "13\n",
      "21\n",
      "34\n",
      "55\n",
      "89\n",
      "end of the sequence.\n"
     ]
    }
   ],
   "source": [
    "n, m = 0, 1\n",
    "number_of_terms = 10\n",
    "i = 0\n",
    "print('Fibonacci terms:')\n",
    "while i < number_of_terms:\n",
    "    n, m = m, n + m\n",
    "    i = i + 1\n",
    "    print(m)\n",
    "else:\n",
    "    print('end of the sequence.')"
   ]
  },
  {
   "cell_type": "markdown",
   "id": "dadd41c0",
   "metadata": {},
   "source": [
    "## DYI - Loop 1: Guess my Age\n",
    "\n",
    "**Implement a program that asks the user to guess your age:**\n",
    "* user is prompted to enter a guess ($the\\_guess$).\n",
    "* if the guess is lesser than your age, output to user \"My age is greater than $the\\_guess$\"\n",
    "* if the guess is greater than your age, output to user \"My age is lesser than $the\\_guess$\"\n",
    "* otherwise, output the game over message: \"Well guessed!\"\n",
    "\n",
    "**You can customize this DIY by adding further controls**\n",
    "* output a specific message when the guess is too far from your age\n",
    "* output a specific message when the guess is closed to your age\n",
    "* output a specific message when the guess is negative\n",
    "* output a specific message when the guess is greater than 120!\n"
   ]
  },
  {
   "cell_type": "markdown",
   "id": "3a1a9b39",
   "metadata": {},
   "source": [
    "## DIY - Loop 2: Palindrome\n",
    "\n",
    "**Write a program to check if a string is a <u>palindrome</u>**\n",
    "\n",
    "* palindrome is a word, phrase, or sequence that reads the same backward as forward\n",
    "* e.g: nurses run; madam; noon; Red rum, sir, is murder\n",
    "\n",
    "**The program**\n",
    "* user is prompted to enter a text\n",
    "* check if the text is a palindrome\n",
    "* output to the user if the text is either a palindrome or not\n",
    "* and loop\n"
   ]
  },
  {
   "cell_type": "markdown",
   "id": "fece04cf",
   "metadata": {},
   "source": [
    "## DIY - Loop 3: Loop and loops\n",
    "Write programs to display the patterns below\n",
    "\n",
    "![](images/img9.png)\n",
    "\n"
   ]
  },
  {
   "cell_type": "markdown",
   "id": "d7c71746",
   "metadata": {},
   "source": [
    "## DIY - Loop and List\n",
    "Write programs to make operations below\n",
    "\n",
    "* sum all the elements in a list\n",
    "\n",
    "* get the greatest number from a list\n",
    "\n",
    "* multiply all the elements in a list\n",
    "\n",
    "* remove duplicate elements from a list\n",
    "\n",
    "* compute dot product of two lists\n"
   ]
  },
  {
   "cell_type": "markdown",
   "id": "06a470ef",
   "metadata": {},
   "source": [
    "## Python Additional Controls Statement\n",
    "\n",
    "### **`continue`** statement\n",
    "\n",
    "* `continue` keyword is used to skip the rest of code inside a loop.\n",
    "\n",
    "* `continue` is used in for loop and while loop\n",
    "\n",
    "* syntax\n",
    "```\n",
    "\tfor item in sequence:\n",
    "\t\tsome_statements_block\n",
    "\t\tif boolean_statement:\n",
    "\t\t\tcontinue\n",
    "\t\tsome_additional_statements_block\n",
    "```\n",
    "\n",
    "* example"
   ]
  },
  {
   "cell_type": "code",
   "execution_count": 10,
   "id": "5ebb74c6",
   "metadata": {},
   "outputs": [
    {
     "name": "stdout",
     "output_type": "stream",
     "text": [
      "0 is an even number\n",
      "2 is an even number\n",
      "4 is an even number\n",
      "6 is an even number\n",
      "8 is an even number\n"
     ]
    }
   ],
   "source": [
    "i = 0\n",
    "while i < 10:\n",
    "    if i % 2 == 1:\n",
    "        i = i + 1\n",
    "        continue # we skip the statement below\n",
    "    print(f'{i} is an even number')\n",
    "    i = i + 1\n"
   ]
  },
  {
   "cell_type": "markdown",
   "id": "2bf07351",
   "metadata": {},
   "source": [
    "### `break` statement\n",
    "\n",
    "* we use `break` keyword to terminate a loop before checking the boolean test expression\n",
    "\n",
    "* `break` is used in `for loop` and `while loop`\n",
    "\n",
    "* syntax\n",
    "```\n",
    "for item in sequence:\n",
    "    some_statements_block\n",
    "    if boolean_statement:\n",
    "        break\n",
    "some_additional_statements_block\n",
    "```\n",
    "\n",
    "* example"
   ]
  },
  {
   "cell_type": "code",
   "execution_count": 14,
   "id": "21c4499b",
   "metadata": {},
   "outputs": [
    {
     "name": "stdout",
     "output_type": "stream",
     "text": [
      "we found: a\n",
      "we found: b\n",
      "we found: x\n",
      "we terminate the loop on x!\n",
      "end of the loop.\n"
     ]
    }
   ],
   "source": [
    "for item in ['a', 'b', 'x', 'c', 'd']:\n",
    "    print(f'we found: {item}')\n",
    "    if item == 'x':\n",
    "        print(f'we terminate the loop on {item}!')\n",
    "        break\n",
    "print('end of the loop.')"
   ]
  },
  {
   "cell_type": "markdown",
   "id": "45bbdfc8",
   "metadata": {},
   "source": [
    "## Reading file content"
   ]
  },
  {
   "cell_type": "code",
   "execution_count": 15,
   "id": "6cc048e4",
   "metadata": {},
   "outputs": [
    {
     "name": "stdout",
     "output_type": "stream",
     "text": [
      "Reading file content...\n",
      "line #1:  Amazon,1874\n",
      "line #2:  Google,2006\n",
      "line #3:  Microsoft,897\n",
      "line #4:  Apple,1900\n",
      "line #5:  Cisco,234\n",
      "End.\n",
      "line: \n",
      "line_number: 6\n"
     ]
    }
   ],
   "source": [
    "with open('prices.csv', 'r') as my_prices:\n",
    "    line_number = 1\n",
    "    line = my_prices.readline()\n",
    "    print('Reading file content...')\n",
    "    while line != '':\n",
    "        print(f'line #{line_number}: ', line, end='')\n",
    "        line = my_prices.readline()\n",
    "        line_number = line_number + 1\n",
    "    print('\\nEnd.')\n",
    "    print('line:', line)\n",
    "    print('line_number:', line_number)"
   ]
  },
  {
   "cell_type": "code",
   "execution_count": null,
   "id": "148cb1d1",
   "metadata": {},
   "outputs": [],
   "source": []
  }
 ],
 "metadata": {
  "kernelspec": {
   "display_name": "Python 3 (ipykernel)",
   "language": "python",
   "name": "python3"
  },
  "language_info": {
   "codemirror_mode": {
    "name": "ipython",
    "version": 3
   },
   "file_extension": ".py",
   "mimetype": "text/x-python",
   "name": "python",
   "nbconvert_exporter": "python",
   "pygments_lexer": "ipython3",
   "version": "3.8.10"
  }
 },
 "nbformat": 4,
 "nbformat_minor": 5
}

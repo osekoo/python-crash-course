{
 "cells": [
  {
   "cell_type": "markdown",
   "id": "767841dd",
   "metadata": {},
   "source": [
    "# Python basic features\n",
    "\n",
    "## Objective\n",
    "* learn about Python statements, indentation and comments\n",
    "* learn how to import Python packages and modules (built-ins or 3rd party)\n"
   ]
  },
  {
   "cell_type": "markdown",
   "id": "098b538b",
   "metadata": {},
   "source": [
    "## Python statement\n",
    "* Python code is a set of `instructions` called also statements\n",
    "```\n",
    "print('the temperature in high')\n",
    "x = 2.5\n",
    "```  \n",
    "_Try it!_"
   ]
  },
  {
   "cell_type": "code",
   "execution_count": 21,
   "id": "ae94e803",
   "metadata": {},
   "outputs": [
    {
     "name": "stdout",
     "output_type": "stream",
     "text": [
      "the temperature in high\n"
     ]
    }
   ],
   "source": [
    "print('the temperature in high')"
   ]
  },
  {
   "cell_type": "markdown",
   "id": "5bf0b6dc",
   "metadata": {},
   "source": [
    "my note for this course!"
   ]
  },
  {
   "cell_type": "code",
   "execution_count": null,
   "id": "b6f455c8",
   "metadata": {},
   "outputs": [],
   "source": []
  },
  {
   "cell_type": "markdown",
   "id": "0e26db46",
   "metadata": {},
   "source": [
    "* the end of statement is marked by a newline (\\n) or semicolon (;)\n",
    "```\n",
    "print('volatility'); print('mean_reversion')\n",
    "print('...')  \n",
    "```  \n",
    "_Try it!_"
   ]
  },
  {
   "cell_type": "code",
   "execution_count": null,
   "id": "7b807b2b",
   "metadata": {},
   "outputs": [],
   "source": []
  },
  {
   "cell_type": "markdown",
   "id": "37d34c77",
   "metadata": {},
   "source": [
    "* a statement can be extended over multiple lines using `backslash (\\)` at the end of each line\n",
    "```\n",
    "print('My name is: \\\n",
    "John Doe.')\n",
    "```\n",
    "_Try it!_ with and without the backslash. What do get?"
   ]
  },
  {
   "cell_type": "code",
   "execution_count": null,
   "id": "d7011b6d",
   "metadata": {},
   "outputs": [],
   "source": []
  },
  {
   "cell_type": "markdown",
   "id": "fe932338",
   "metadata": {},
   "source": [
    "## Indenting Python code\n",
    "\n",
    "* Python statements are indented by line\n",
    "* Python programmers commonly use tab or 4 whitespaces to indent the blocks of code\n",
    "* the first block of statements start at the first column of your file\n",
    "```\n",
    "statement_block1:\n",
    "\tstatement11\n",
    "\tstatement12\n",
    "statement_block2:\n",
    "\tstatement21:\n",
    "\t\tstatement211\n",
    "```"
   ]
  },
  {
   "cell_type": "markdown",
   "id": "bf0c87e6",
   "metadata": {},
   "source": [
    "## Commenting program\n",
    "* comments are very important while writing a program\n",
    "    - they describe the purpose of your program and some of its parts\n",
    "    - they help other developers to understand what your program is supposed to do\n",
    "    - they are also helpful for yourself: reviewing the program you wrote few months ago\n",
    "* comments are ignored by the Python interpreter\n",
    "    - all characters are accepted\n",
    "* a comment statement is started with `hash (#)`\n",
    "```\n",
    "# displaying the current revenue\n",
    "print(‘current revenue = 9.5M’) # TODO: store the revenue into a variable\n",
    "```"
   ]
  },
  {
   "cell_type": "code",
   "execution_count": 22,
   "id": "52fb11ca",
   "metadata": {},
   "outputs": [
    {
     "name": "stdout",
     "output_type": "stream",
     "text": [
      "current revenue = 9.5M\n"
     ]
    }
   ],
   "source": [
    "# displaying the current revenue\n",
    "print('current revenue = 9.5M') # TODO: store the revenue into a variable"
   ]
  },
  {
   "cell_type": "markdown",
   "id": "40137249",
   "metadata": {},
   "source": [
    "* comments can be extended over multiple lines\n",
    "    - using `triple single quotes  (''')` or `triple double quotes (\"\"\")`\n",
    "\n",
    "```\n",
    "\"\"\"\n",
    "this function converts the time series into\n",
    "list of daily returns over the past year.\n",
    "\"\"\"\n",
    "```"
   ]
  },
  {
   "cell_type": "markdown",
   "id": "09264d59",
   "metadata": {},
   "source": [
    "## Getting help on Python features\n",
    "* use Python builtin function `help()` to get a description of Python features (_function_, _class_, _module_, package, etc.)\n",
    "    - usage: `help(item)` or `help(‘item’)`\n",
    "* try this\n",
    "```\n",
    "help('print')\n",
    "help('datetime')\n",
    "help('unknown_item')\n",
    "```\n",
    "    - what do you get for each statement?\n",
    "* for more details just run `help(help)`"
   ]
  },
  {
   "cell_type": "code",
   "execution_count": 23,
   "id": "6f6dfd9c",
   "metadata": {},
   "outputs": [
    {
     "name": "stdout",
     "output_type": "stream",
     "text": [
      "Help on built-in function sin in module math:\n",
      "\n",
      "sin(x, /)\n",
      "    Return the sine of x (measured in radians).\n",
      "\n"
     ]
    }
   ],
   "source": [
    "help(math.sin)"
   ]
  },
  {
   "cell_type": "markdown",
   "id": "8d6390b0",
   "metadata": {},
   "source": [
    "## Importing modules into your program\n",
    "    \n",
    "* a _module_ is a file containing Python program (functions, statements, classes, constants, etc.)\n",
    "* a _package_ is a set of modules\n",
    "* if you want to use particular functions or classes defined in an external module  or package, you have to include them into Python file using `import` keyword\n",
    "    * for example to use mathematical functions or objects available in the module `math`"
   ]
  },
  {
   "cell_type": "code",
   "execution_count": 15,
   "id": "e917eaf3",
   "metadata": {},
   "outputs": [
    {
     "name": "stdout",
     "output_type": "stream",
     "text": [
      "3.141592653589793\n"
     ]
    }
   ],
   "source": [
    "import math\n",
    "print(math.pi) # output the value of PI (constant defined with the variable math.pi)"
   ]
  },
  {
   "cell_type": "markdown",
   "id": "4eaf14c3",
   "metadata": {},
   "source": [
    "* you can just import particular functions instead of the whole module using `from` keyword"
   ]
  },
  {
   "cell_type": "code",
   "execution_count": 16,
   "id": "ae3aac58",
   "metadata": {},
   "outputs": [
    {
     "name": "stdout",
     "output_type": "stream",
     "text": [
      "3.141592653589793\n",
      "7.38905609893065\n"
     ]
    }
   ],
   "source": [
    "from math import pi, exp\n",
    "print(pi) # output the value of pi defined in the module math\n",
    "print(exp(2)) # output 7.38905"
   ]
  },
  {
   "cell_type": "markdown",
   "id": "f2fc499b",
   "metadata": {},
   "source": [
    "* you can rename a module you import (for example to avoid conflict) using `as` keyword"
   ]
  },
  {
   "cell_type": "code",
   "execution_count": 17,
   "id": "160339ab",
   "metadata": {},
   "outputs": [
    {
     "name": "stdout",
     "output_type": "stream",
     "text": [
      "1.1447298858494002\n"
     ]
    }
   ],
   "source": [
    "import math as M\n",
    "print(M.log(M.pi)) # output the log value of PI"
   ]
  },
  {
   "cell_type": "markdown",
   "id": "1f53c05a",
   "metadata": {},
   "source": [
    "* combining all keywords"
   ]
  },
  {
   "cell_type": "code",
   "execution_count": 18,
   "id": "37532437",
   "metadata": {},
   "outputs": [
    {
     "name": "stdout",
     "output_type": "stream",
     "text": [
      "2021-09-12 10:00:44.619220\n"
     ]
    }
   ],
   "source": [
    "from datetime import datetime as dt\n",
    "print(dt.now())"
   ]
  },
  {
   "cell_type": "markdown",
   "id": "d8332a83",
   "metadata": {},
   "source": [
    "* this is really one of the awesome tools that makes Python very popular\n",
    "    - you can structure your program by packages and modules to increase the readability\n",
    "    - you can use Python built-ins packages and modules and benefit from upgrades\n",
    "    - you can use 3rd party packages and modules\n",
    "    - you can easily share your program with other programmers\n",
    "    - programmers can widely collaborate on open-source projects"
   ]
  },
  {
   "cell_type": "markdown",
   "id": "47a9279a",
   "metadata": {},
   "source": [
    "## DIY\n",
    "* import the module `math` into your program\n",
    "* browse `math` documentation : `help(math)`\n",
    "* `math` module comes with some mathematical functions and constants\n",
    "* use some of them (`exp()`, `log()`, `sqrt()`, `tan()`, `radians()`, `sin()`, `inf`, `pi`, `tau`, etc.)\n",
    "* compute the value of the `sigmoid` function at `log(0.5)` : \n",
    "```sigmoid(x) = 1/(1 + exp(-x))```"
   ]
  },
  {
   "cell_type": "code",
   "execution_count": 24,
   "id": "3bf222ff",
   "metadata": {},
   "outputs": [
    {
     "data": {
      "text/plain": [
       "0.3333333333333333"
      ]
     },
     "execution_count": 24,
     "metadata": {},
     "output_type": "execute_result"
    }
   ],
   "source": [
    "1/(1 + math.exp(-math.log(0.5)))"
   ]
  }
 ],
 "metadata": {
  "kernelspec": {
   "display_name": "Python 3 (ipykernel)",
   "language": "python",
   "name": "python3"
  },
  "language_info": {
   "codemirror_mode": {
    "name": "ipython",
    "version": 3
   },
   "file_extension": ".py",
   "mimetype": "text/x-python",
   "name": "python",
   "nbconvert_exporter": "python",
   "pygments_lexer": "ipython3",
   "version": "3.8.10"
  }
 },
 "nbformat": 4,
 "nbformat_minor": 5
}

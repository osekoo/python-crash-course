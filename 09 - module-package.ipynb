{
 "cells": [
  {
   "cell_type": "markdown",
   "id": "f7776301",
   "metadata": {},
   "source": [
    "# Module in Python\n",
    "\n",
    "* a module is a Python file containing Python code (statements, functions, constants, etc.)\n",
    "\n",
    "* if the file's name is **label.py** its module name is **label**\n",
    "\n",
    "* we use module to split a long program into small chunks following some logic\n",
    "\n",
    "* it makes the program modular, manageable and reusable\n",
    "\n",
    "* we use the keyword `import` to include the code of module in another Python file\n",
    "```\n",
    "import label\n",
    "```\n",
    "\n",
    "* we use the keyword `as` to rename a module name to avoid conflict or more comfort\n",
    "```\n",
    "import label as lbl\n",
    "```\n",
    "\n",
    "* we use the keyword `from` to import specific definitions from a module\n",
    "```\n",
    "from label import display, square, init\n",
    "```"
   ]
  },
  {
   "cell_type": "markdown",
   "id": "8a359b1f",
   "metadata": {},
   "source": [
    "# Package in Python\n",
    "\n",
    "* package is a directory that contains multiple Python files (modules)\n",
    "\n",
    "* by convention, the directory should contain a file called **\\_\\_init\\_\\_.py**\n",
    "\n",
    "* **\\_\\_init\\_\\_.py** can be left empty but can contains initialization code\n",
    "\n",
    "* a package can contain other packages (sub-directories)\n",
    "\n",
    "* we use the keyword `import` to include modules and/or packages into our program\n",
    "```\n",
    "import mypackage\n",
    "import mypackage as pkg # renamin the package\n",
    "import mypackage.mymodule\n",
    "from mypackage import mymodule.myfunction\n",
    "```"
   ]
  },
  {
   "cell_type": "code",
   "execution_count": null,
   "id": "bd339c9c",
   "metadata": {},
   "outputs": [],
   "source": []
  }
 ],
 "metadata": {
  "kernelspec": {
   "display_name": "Python 3 (ipykernel)",
   "language": "python",
   "name": "python3"
  },
  "language_info": {
   "codemirror_mode": {
    "name": "ipython",
    "version": 3
   },
   "file_extension": ".py",
   "mimetype": "text/x-python",
   "name": "python",
   "nbconvert_exporter": "python",
   "pygments_lexer": "ipython3",
   "version": "3.8.10"
  }
 },
 "nbformat": 4,
 "nbformat_minor": 5
}

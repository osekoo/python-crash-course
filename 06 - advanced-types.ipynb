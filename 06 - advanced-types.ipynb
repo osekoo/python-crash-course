{
 "cells": [
  {
   "cell_type": "markdown",
   "id": "96d1c6c3",
   "metadata": {},
   "source": [
    "# Python advanced Types\n",
    "\n",
    "## Objective\n",
    "* learn about Python types\n",
    "* learn how to work with some Python types in your programs\n"
   ]
  },
  {
   "cell_type": "markdown",
   "id": "8c3329a3",
   "metadata": {},
   "source": [
    "## List\n",
    "\n",
    "* **List** is the most frequently used data type in Python\n",
    "* List is used to model a **sequence** of data (items)\n",
    "* It is used to group data in **ordered way* under one variable\n",
    "* A list can contains mixed data types (_strings_, _numbers_, _booleans_, _lists_, etc.)\n"
   ]
  },
  {
   "cell_type": "markdown",
   "id": "ab499132",
   "metadata": {},
   "source": [
    "### Creating a list in Python\n",
    "\n",
    "* a list is created by grouping all the items inside square brackets (`[]`) and separated by commas (`,`)\n",
    "\n",
    "```\n",
    "fruits = [\"apple\", \"banana\", \"blueberry\", \"apricot\"]\n",
    "ages = [5, 3, 25, 30, 72, 89, 44]\n",
    "```\n",
    "\n",
    "* we can mix different data types\n",
    "```\n",
    "years = [1980, 1999, '2005', '2014', 2020]\n",
    "```\n",
    "\n",
    "* list can contain lists (list of lists)\n",
    "```\n",
    "returns = [['2.5%', '3%', '1.75%'], ['7%', '5%', None], ['-2%', '1%', '0.5%']]\n",
    "```\n",
    "\n",
    "* empty list\n",
    "```\n",
    "empty_list = []\n",
    "```"
   ]
  },
  {
   "cell_type": "code",
   "execution_count": 3,
   "id": "01619cb5",
   "metadata": {},
   "outputs": [
    {
     "name": "stdout",
     "output_type": "stream",
     "text": [
      "['apple', 'banana', 'blueberry', 'apricot']\n",
      "[5, 3, 25, 30, 72, 89, 44]\n"
     ]
    }
   ],
   "source": [
    "fruits = [\"apple\", \"banana\", \"blueberry\", \"apricot\"]\n",
    "ages = [5, 3, 25, 30, 72, 89, 44]\n",
    "print(fruits)\n",
    "print(ages)"
   ]
  },
  {
   "cell_type": "markdown",
   "id": "19cfc253",
   "metadata": {},
   "source": [
    "### Accessing item from a list in Python\n",
    "\n",
    "* we use *index* to access an item in a list\n",
    "\n",
    "* the index is put within square bracket (`[]`) \n",
    "\n",
    "* the index is an integer starts at 0 (the first) and ends at the number of items - 1 (the last item)\n",
    "\n",
    "```\n",
    "fruits = [\"apple\", \"banana\", \"blueberry\", \"apricot\"]\n",
    "print(fruits[0]) # displays the first element of the list ⇒ apple\n",
    "print(fruits[1]) # displays the second element of the list ⇒ banana\n",
    "print(fruits[3]) # displays the second element of the list ⇒ apricot\n",
    "```\n",
    "\n",
    "* Python raises an error (IndexError) if you provide an existing index\n",
    "```\n",
    "print(fruits[4]) # will raise an error. Why?\n",
    "```\n",
    "\n",
    "* we can also use a negative index to access item\n",
    "\n",
    "* index of -1 refers to the last item, -2 to the second last item, etc.\n",
    "\n",
    "```\n",
    "python = ['p', 'y', 't', 'h', 'o', 'n' ]\n",
    "print(python[-1]) # displays 'n'\n",
    "print(python[-2]) # displays 'o'\n",
    "print(python[-6]) # displays 'p'\n",
    "print(python[-7]) # displays ???\n",
    "```\n",
    "\n",
    "* list index range is from 0 to size of the list - 1\n",
    "\n",
    "* list index range is from -1 down to -(size of the list)"
   ]
  },
  {
   "cell_type": "markdown",
   "id": "89efbb1d",
   "metadata": {},
   "source": [
    "### Slicing lists in Python\n",
    "\n",
    "* access range of elements in a list instead of getting element by element\n",
    "\n",
    "* we use the colon (`:`) to slice a list by providing the first and the last indices\n",
    "`my_list[start_index:end_index]` will return elements from `my_list[start_index]` to `my_list[end_index-1]`\n",
    "\n",
    "```\n",
    "python = ['p', 'y', 't', 'h', 'o', 'n' ]\n",
    "print(python[2:4]) # will display ['t', 'h']\n",
    "```\n",
    "\n",
    "* we can omit the first index to get the elements from the beginning to last index -1\n",
    "```\n",
    "print(python[:4]) # will display ['p', 'y', 't', 'h']\n",
    "print(python[:0]) # will display ???\n",
    "```\n",
    "\n",
    "* we can also omit the last index to get all remaining elements from the first index to the end\n",
    "```\n",
    "python = ['p', 'y', 't', 'h', 'o', 'n' ]\n",
    "print(python[3:]) # will display ['h', 'o', 'n']\n",
    "print(python[7:]) # will display ???\n",
    "```\n",
    "\n",
    "* we can omit the both indices to get all items in the list (useful to items of one list to another one)\n",
    "```\n",
    "python = ['p', 'y', 't', 'h', 'o', 'n' ]\n",
    "print(python[:]) # will display ['p', 'y', 't', 'h', 'o', 'n' ]\n",
    "```"
   ]
  },
  {
   "cell_type": "markdown",
   "id": "3a4b275b",
   "metadata": {},
   "source": [
    "### Adding items to a list\n",
    "\n",
    "* we use the built-in function `append()` to add one element at the end of a list\n",
    "```\n",
    "python = ['p', 'y', 't', 'h', 'o', 'n' ]\n",
    "python.append('!')\n",
    "print(python) # ['p', 'y', 't', 'h', 'o', 'n', '!']\n",
    "```\n",
    "\n",
    "* we use the built-in function `extend()` to add several elements at the end of a list\n",
    "```\n",
    "python = ['p', 'y', 't', 'h', 'o', 'n' ]\n",
    "python.extend([' ', 'p', 'r', 'o', 'g'])\n",
    "print(python) # ['p', 'y', 't', 'h', 'o', 'n', ' ', 'p', 'r', 'o', 'g']\n",
    "```\n",
    "\n",
    "* note that the list is modified in-place\n"
   ]
  },
  {
   "cell_type": "markdown",
   "id": "27027c0d",
   "metadata": {},
   "source": [
    "### Changing elements in a list\n",
    "\n",
    "* we assign a new item to a specific index in a list\n",
    "```\n",
    "python = ['p', 'y', 't', 'h', 'o', 'n' ]\n",
    "python[0] = 'P'\n",
    "print(python) # we change the 'p' to 'P' at the index 0\n",
    "```\n",
    "\n",
    "* we can also change a range of items\n",
    "```\n",
    "python = ['p', 'y', 't', 'h', 'o', 'n' ]\n",
    "python[1:3] = ['-', '-']\n",
    "print(python) # we change the 'y' and 't' by '-'\n",
    "```"
   ]
  },
  {
   "cell_type": "markdown",
   "id": "094d5756",
   "metadata": {},
   "source": [
    "### Deleting elements from a list\n",
    "\n",
    "* we use Python keyword `del` to delete item or list of items from a list\n",
    "* the items are provided through their indices\n",
    "```\n",
    "python = ['p', 'y', 't', 'h', 'o', 'n' ]\n",
    "del python[0] # we delete the first item\n",
    "del python[-1] # we delete the last item\n",
    "del python[2:5] # we delete the 3rd and 4th items\n",
    "print(python) # \n",
    "```\n",
    "\n",
    "* we can delete the whole list\n",
    "```\n",
    "del python # delete the list\n",
    "print(python)\n",
    "```"
   ]
  },
  {
   "cell_type": "markdown",
   "id": "8a679632",
   "metadata": {},
   "source": [
    "### Removing element from a list\n",
    "\n",
    "* we use the built-in function `remove()` to remove a specific element from a list\n",
    "```\n",
    "python = ['p', 'y', 't', 'h', 'o', 'n' ]\n",
    "python.remove('y')\n",
    "print(python)\n",
    "```\n",
    "\n",
    "* only the first occurrence of the element is removed from the list\n",
    "```\n",
    "python = ['p', 'y', 't', 'h', 'o', 'n', 'p' , 'r', 'o', 'g']\n",
    "python.remove('p')\n",
    "print(python)\n",
    "```"
   ]
  },
  {
   "cell_type": "markdown",
   "id": "71c438bb",
   "metadata": {},
   "source": [
    "### Getting number of elements in a list (the length of a list)\n",
    "\n",
    "* we use the built-in function `len()` to get a number of items in a list\n",
    "```\n",
    "python = ['p', 'y', 't', 'h', 'o', 'n' ]\n",
    "print(len(python)) # will display the length of the list\n",
    "```"
   ]
  },
  {
   "cell_type": "markdown",
   "id": "33b77779",
   "metadata": {},
   "source": [
    "### Checking if an item exists in a list or not\n",
    "\n",
    "* we use Python keyword `in` to test if an item is in a list or not\n",
    "```\n",
    "python = ['p', 'y', 't', 'h', 'o', 'n' ]\n",
    "print('y' in python)\n",
    "print('z' in python)\n",
    "```"
   ]
  },
  {
   "cell_type": "markdown",
   "id": "d6bf4988",
   "metadata": {},
   "source": [
    "### Concatenating two lists\n",
    "\n",
    "* we concatenate two lists by using `+`. This operation produces another list\n",
    "```\n",
    "python = ['p', 'y', 't', 'h', 'o', 'n' ]\n",
    "prog = ['p', 'r', 'o', 'g']\n",
    "python_prog = python + prog\n",
    "print(python_prog) # ['p', 'y', 't', 'h', 'o', 'n', 'p', 'r', 'o', 'g']\n",
    "```"
   ]
  },
  {
   "cell_type": "markdown",
   "id": "7203ff76",
   "metadata": {},
   "source": [
    "### Repeating the items in a list\n",
    "\n",
    "* we repeat the items in a list by using `*`. This operation produces another list\n",
    "```\n",
    "surprise = ['o', 'h', '!' ]\n",
    "very_surprise = surprise*5\n",
    "print(surprise) # ['o', 'h', '!' ]\n",
    "print(very_surprise) # ['o', 'h', '!', 'o', 'h', '!', 'o', 'h', '!', 'o', 'h', '!', 'o', 'h', '!']\n",
    "```"
   ]
  },
  {
   "cell_type": "markdown",
   "id": "9e8e4193",
   "metadata": {},
   "source": [
    "### Generating range of integers\n",
    "\n",
    "* we use the built-in function **`range()`** to generate the integers numbers\n",
    "\n",
    "* `range()` takes three arguments: `range(start, stop, step)`\n",
    "    - `start` argument is a starting number of the sequence. i.e., lower limit. By default, it starts with 0 if not specified.\n",
    "    - `stop` argument is an upper limit. i.e., generate numbers up to this number, The range() doesn't include this number in the result.\n",
    "    - `step` is a difference between each number in the result. The default value of the step is 1 if not specified. \n",
    "    \n",
    "* example\n",
    "```\n",
    "print(list(range(10))) # will display integers from 0 to 9\n",
    "print(list(range(4, 21))) # will display integers from 4 to 20\n",
    "print(list(range(4, 22, 2))) # will display all even numbers between 4 and 22 (excluded) \n",
    "```\n",
    "\n",
    "* in the example above, the range data are converted into a list before calling the print() function\n",
    "    - try this `print(range(10))`"
   ]
  },
  {
   "cell_type": "markdown",
   "id": "b02f1d91",
   "metadata": {},
   "source": [
    "### Python List operations\n",
    "\n",
    "![](./images/img7.png)\n",
    "![](./images/img8.png)"
   ]
  },
  {
   "cell_type": "markdown",
   "id": "99b04258",
   "metadata": {},
   "source": [
    "### String can be used as List\n",
    "\n",
    "* indexing and slicing operation are similar\n",
    "\n",
    "* but the elements cannot be changed in a string\n",
    "\n",
    "* we can convert a string into list and use the result as a standard list\n",
    "```\n",
    "python_str = 'python'\n",
    "python_list = list(python_str)\n",
    "print(python_str)\n",
    "print(python_list)\n",
    "```"
   ]
  },
  {
   "cell_type": "markdown",
   "id": "7cc2db00",
   "metadata": {},
   "source": [
    "**Full documentation about Python List is available at**\n",
    "https://docs.python.org/3/tutorial/datastructures.html \n"
   ]
  },
  {
   "cell_type": "markdown",
   "id": "31b950a1",
   "metadata": {},
   "source": [
    "## Tuple\n",
    "\n",
    "* Python **`Tuple`** is similar to Python List\n",
    "\n",
    "* You <u>cannot change the elements</u> of a tuple once it is created\n",
    "    - tuples are immutable\n",
    "\n",
    "* Creating tuple\n",
    "```\n",
    "python = ('p', 'y', 't', 'h', 'o', 'n) # we create new tuple\n",
    "print(python)\n",
    "```\n",
    "\n",
    "* Indexing (accessing) and slicing are similar to List\n",
    "\n",
    "* Concatenation and repeat are also the same\n",
    "\n",
    "* You can delete a tuple but you cannot delete a specific element in a tuple\n",
    "\n",
    "* Further at https://docs.python.org/3/tutorial/datastructures.html#tuples-and-sequences "
   ]
  },
  {
   "cell_type": "markdown",
   "id": "38123d09",
   "metadata": {},
   "source": [
    "## Set\n",
    "\n",
    "* in Python, **`set`** is a collection of items  \n",
    "\n",
    "* every element in **set** is <u>**unique**</u> (no duplicates)  \n",
    "\n",
    "* the elements are stored in an <u>**unordered**</u> way (no indexing)  \n",
    "\n",
    "* <span style=\"color:red\">the set elements <u>cannot be mutable</u>\n",
    "\n",
    "    - the elements of `set` cannot be *lists* nor *sets*</span>   \n",
    "\n",
    "* we can add or remove items\n"
   ]
  },
  {
   "cell_type": "markdown",
   "id": "3db2480a",
   "metadata": {},
   "source": [
    "### Creating a set\n",
    "\n",
    "* we create a **set** by putting items in curly braces (**{}**) separated by comma (**,**)\n",
    "```\n",
    "companies = {'Google', 'Amazon', 'Facebook', 'Apple'}\n",
    "```\n",
    "\n",
    "* we can create a set from a list\n",
    "```\n",
    "companies = set(['Google', 'Amazon', 'Facebook', 'Apple'])\n",
    "```\n",
    "\n",
    "* the duplicates items are removed at creation\n",
    "```\n",
    "companies = set(['Google', 'Amazon', 'Facebook', 'Apple', 'Google'])\n",
    "print(companies)\n",
    "```\n",
    "\n",
    "* empty set\n",
    "```\n",
    "empty_data2 = set() \n",
    "```"
   ]
  },
  {
   "cell_type": "markdown",
   "id": "89268aea",
   "metadata": {},
   "source": [
    "### Adding items to a set\n",
    "\n",
    "* we use the built-in function `add()` to add a single element to a set\n",
    "```\n",
    "companies = {'Google'}\n",
    "companies.add('Amazon')\n",
    "```\n",
    "\n",
    "* we use the built-in function `update()` to add multiple (collection/sequence) elements to a set. Each item is copied to the set\n",
    "```\n",
    "companies = {'Google'}\n",
    "companies.update([ 'Amazon', 'Facebook', 'Apple'])\n",
    "companies.update({ 'Amazon', 'Facebook', 'Apple'})\n",
    "companies.update(( 'Amazon', 'Facebook', 'Apple'))\n",
    "```\n",
    "\n",
    "* what do you get with each of the statements below\n",
    "```\n",
    "companies.add('Amazon')\n",
    "companies.update('Amazon')\n",
    "companies.add(['Amazon'])\n",
    "```\n",
    "\n",
    "* **strings** are sequences!"
   ]
  },
  {
   "cell_type": "markdown",
   "id": "b1103b96",
   "metadata": {},
   "source": [
    "### Removing items from a set\n",
    "\n",
    "* we use the built-in functions `discard()` and `remove()` to remove an item from a set\n",
    "\n",
    "* the both functions take as argument the item to remove\n",
    "```\n",
    "companies = {'Google', 'Amazon', 'Facebook', 'Apple'}\n",
    "companies.discard('Google')\n",
    "companies.remove('Apple')\n",
    "```\n",
    "\n",
    "* `remove()` raises an error if the set doesn't contain the given item\n",
    "```\n",
    "companies = {'Google', 'Amazon', 'Facebook', 'Apple'}\n",
    "companies.remove(Microsoft) # throws error\n",
    "```\n",
    "\n",
    "* `discard()` just keeps the set unchanged if the set doesn't contain the item\n",
    "```\n",
    "companies = {'Google', 'Amazon', 'Facebook', 'Apple'}\n",
    "companies.discard(Microsoft) # the list remains unchanged\n",
    "```"
   ]
  },
  {
   "cell_type": "markdown",
   "id": "59b24e45",
   "metadata": {},
   "source": [
    "### Checking membership\n",
    "\n",
    "* we use `in` keyword to test if a set contains a particular item\n",
    "```\n",
    "companies = {'Google', 'Amazon', 'Facebook', 'Apple'}\n",
    "print('Apple' in companies)\n",
    "print('Cisco' in companies)\n",
    "```"
   ]
  },
  {
   "cell_type": "markdown",
   "id": "5f9e32db",
   "metadata": {},
   "source": [
    "### Assemble operations on set\n",
    "\n",
    "* we use the built-in function `union()` or pipe (`|`)  to make a **union of two sets**\n",
    "```\n",
    "companies1 = {'Google', 'Amazon'}\n",
    "companies2 = {'Google', 'Facebook', 'Apple'}\n",
    "companies = companies1.union(companies2)\n",
    "companies = (companies1 | companies2)\n",
    "```\n",
    "\n",
    "* we use the built-in function `intersection()` or `&`  to make an **intersection of two sets**\n",
    "```\n",
    "companies1 = {'Google', 'Amazon'}\n",
    "companies2 = {'Google', 'Facebook', 'Apple'}\n",
    "companies = companies1.intersection(companies2)\n",
    "companies = (companies1 & companies2)\n",
    "```\n",
    "\n",
    "* we use the built-in function `difference()` or minus (`-`)  to make a difference of two sets\n",
    "```\n",
    "companies1 = {'Google', 'Amazon'}\n",
    "companies2 = {'Google', 'Facebook', 'Apple'}\n",
    "companies = companies1.difference(companies2)\n",
    "companies = (companies1 - companies2)\n",
    "```"
   ]
  },
  {
   "cell_type": "markdown",
   "id": "ddc2c10f",
   "metadata": {},
   "source": [
    "**Full documentation about Python Set is available at**: https://docs.python.org/2/library/stdtypes.html#set \n"
   ]
  },
  {
   "cell_type": "markdown",
   "id": "496153fa",
   "metadata": {},
   "source": [
    "## Dictionary\n",
    "\n",
    "* In Python, **dictionaries** are used to store <u>**key/value pairs**</u> items\n",
    "    - item: **key : value**\n",
    "    - **key** and **value** can be of any Python type\n",
    "\n",
    "* The items are stored in **unordered way** (no indexing)\n",
    "\n",
    "* The keys are case sensitive\n",
    "    - **'today':'27°'** is different from **'Today':'27°'**\n"
   ]
  },
  {
   "cell_type": "markdown",
   "id": "6de8ced9",
   "metadata": {},
   "source": [
    "### Creating dictionary\n",
    "\n",
    "* we create a dictionary by putting items inside curly braces (`{}`) separated by comma (,)\n",
    "```\n",
    "prices = {} # empty dictionary\n",
    "prices = {'google':1759.73, 'amazon':3311.37, 'facebook':293.41}\n",
    "```\n",
    "\n",
    "* we can use built-in function `dict()` to create a dictionary\n",
    "```\n",
    "prices = dict({'google':1759.73, 'amazon':3311.37, 'facebook':293.41})\n",
    "```\n",
    "\n",
    "* we can create a dictionary using a **list of pairs** (tuple of two elements)\n",
    "```\n",
    "prices = dict([('google',1759.73), ('amazon',3311.37), ('facebook',293.41)])\n",
    "```"
   ]
  },
  {
   "cell_type": "code",
   "execution_count": 6,
   "id": "16dcaea9",
   "metadata": {},
   "outputs": [
    {
     "name": "stdout",
     "output_type": "stream",
     "text": [
      "my_dict1 {'et1': 'John Doe', 'et2': 'Julie D.'}\n",
      "my_dict2 {'et1': ('John Doe', '1/1/2021'), 'et2': ('Julie D.', '2/3/2022')}\n",
      "my_dict3 {'et1': {'fullname': 'John Doe', 'birthday': '1/1/2021'}, 'et2': {'fullname': 'Julie D.', 'birthday': '2/3/2022'}}\n"
     ]
    }
   ],
   "source": [
    "my_dict1 = {'et1':'John Doe', 'et2':'Julie D.'}\n",
    "print('my_dict1', my_dict1)\n",
    "\n",
    "my_dict2 = {'et1': ('John Doe', '1/1/2021'), 'et2': (\"Julie D.\", '2/3/2022')}\n",
    "print('my_dict2', my_dict2)\n",
    "\n",
    "my_dict3 = {'et1': {'fullname':'John Doe', 'birthday':'1/1/2021'}, \n",
    "            'et2':{'fullname':'Julie D.', 'birthday':'2/3/2022'}}\n",
    "print('my_dict3', my_dict3)"
   ]
  },
  {
   "cell_type": "markdown",
   "id": "fc936564",
   "metadata": {},
   "source": [
    "### Accessing dictionary item\n",
    "\n",
    "* we use the built-in function `get()` or square brackets (`[]`) to access an element\n",
    "\n",
    "* both take the key of the item as argument\n",
    "```\n",
    "print(companies['google'])\n",
    "print(companies.get('apple'))\n",
    "```\n",
    "\n",
    "* `[]` raises an error (**KeyError**) in case a key is not found in the dictionary\n",
    "\n",
    "* `get()` returns None in case a key is not found in the dictionary\n",
    "```\n",
    "prices = {'google':1759.73, 'amazon':3311.37, 'facebook':293.41}\n",
    "print(prices['microsoft'] # throws KeyError\n",
    "print(prices.get('microsoft')) # outputs None\n",
    "```"
   ]
  },
  {
   "cell_type": "code",
   "execution_count": 13,
   "id": "aa30a0ac",
   "metadata": {},
   "outputs": [
    {
     "name": "stdout",
     "output_type": "stream",
     "text": [
      "{'fullname': 'Julie D.', 'birthday': '2/3/2022'}\n",
      "{'fullname': 'John Doe', 'birthday': '1/1/2021'}\n",
      "None\n",
      "et2 fullname: Julie D.\n",
      "et2 fullname: Julie D.\n"
     ]
    }
   ],
   "source": [
    "print(my_dict3['et2'])\n",
    "print(my_dict3.get('et1'))\n",
    "print(my_dict3.get('et3'))\n",
    "# print(my_dict3['et4']) # Err\n",
    "my_et2 = my_dict3['et2']\n",
    "print('et2 fullname:', my_et2['fullname'])\n",
    "print('et2 fullname:', my_dict3['et2']['fullname'])"
   ]
  },
  {
   "cell_type": "markdown",
   "id": "c0a92dbb",
   "metadata": {},
   "source": [
    "### Adding element into a dictionary\n",
    "```\n",
    "prices['microsoft'] = 223.72\n",
    "print(prices)\n",
    "```\n",
    "\n",
    "### Changing element in a dictionary\n",
    "```\n",
    "prices['google'] = 1785.23 # assume that the key exists or it'll be added\n",
    "```\n",
    "\n",
    "### Removing element from a dictionary\n",
    "\n",
    "* we use the function `pop()` to remove an item from a list\n",
    "\n",
    "* `pop()` takes the key of the item as argument and returns the value of the item\n",
    "```\n",
    "print(prices.pop('google')) # outputs 1785.23\n",
    "```\n",
    "\n",
    "### Removing all items\n",
    "\n",
    "* we use the function `clear()` to remove all items from a dictionary\n",
    "```\n",
    "prices.clear()\n",
    "print(prices) # output empty dictionary\n",
    "```\n",
    "\n",
    "* the keyword del delete the dictionary\n",
    "```\n",
    "del prices\n",
    "print(prices) # throws error\n",
    "```"
   ]
  },
  {
   "cell_type": "markdown",
   "id": "0aed1975",
   "metadata": {},
   "source": [
    "**Full documentation about Python Dictionary is available at ** https://docs.python.org/2/library/stdtypes.html#mapping-types-dict \n"
   ]
  },
  {
   "cell_type": "markdown",
   "id": "afc9171c",
   "metadata": {},
   "source": [
    "### DIY\n",
    "* create a dictionary to store a list of fruits and their prices, units (\\\\$, €, etc.), weights (in kg)\n",
    "\n",
    "* remove the most expensive fruit from the dictionary\n",
    "\n",
    "* compute the average price of the fruits bucket\n",
    "\n",
    "* compute the price/kg for each fruit and add this value to the fruit (with a key 'unit_price')\n",
    "\n",
    "* print the bucket after each modification\n"
   ]
  },
  {
   "cell_type": "code",
   "execution_count": null,
   "id": "6fc85abe",
   "metadata": {},
   "outputs": [],
   "source": []
  }
 ],
 "metadata": {
  "kernelspec": {
   "display_name": "Python 3 (ipykernel)",
   "language": "python",
   "name": "python3"
  },
  "language_info": {
   "codemirror_mode": {
    "name": "ipython",
    "version": 3
   },
   "file_extension": ".py",
   "mimetype": "text/x-python",
   "name": "python",
   "nbconvert_exporter": "python",
   "pygments_lexer": "ipython3",
   "version": "3.8.10"
  }
 },
 "nbformat": 4,
 "nbformat_minor": 5
}

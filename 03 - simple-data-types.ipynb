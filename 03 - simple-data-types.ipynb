{
 "cells": [
  {
   "cell_type": "markdown",
   "id": "febf8d20",
   "metadata": {},
   "source": [
    "# Python simple data types\n",
    "\n",
    "## Objective\n",
    "* learn basic data types (Strings, Numbers and Booleans)\n",
    "* learn how to work with data in your programs\n"
   ]
  },
  {
   "cell_type": "markdown",
   "id": "d17cbbd8",
   "metadata": {},
   "source": [
    "## String\n",
    "\n",
    "* String is one of the basic data types used in Python code (you already manipulated it while printing data!)\n",
    "* Strings are a combinatination of any characters within <u>single quotes</u> ('') or <u>double quotes</u> (\"\")\n",
    "* They are used to store text\n",
    "* These are example of strings:\n",
    "```\n",
    "'Hello world! This is my first python code!'\n",
    "\"Hello Market! Stocks will be up. Buy!\"\n",
    "\"_#Argh# There are '10 callable bonds' in the  3rd portfolio...\"\n",
    "```"
   ]
  },
  {
   "cell_type": "code",
   "execution_count": 21,
   "id": "cc69c295",
   "metadata": {},
   "outputs": [
    {
     "name": "stdout",
     "output_type": "stream",
     "text": [
      "\n"
     ]
    }
   ],
   "source": [
    "'Hello world! This is my first python code!'\n",
    "\"Hello Market! Stocks will be up. Buy!\"\n",
    "\"_#Argh# There are '10 callable bonds' in the  3rd portfolio...\"\n",
    "print()"
   ]
  },
  {
   "cell_type": "markdown",
   "id": "15b5cb75",
   "metadata": {},
   "source": [
    "### Operations on Strings\n",
    "* **assigning to variable**\n",
    "    - `last_visited_country = 'Spain'`\n",
    "* **concatenating strings**\n",
    "    - `'I visited ' + last_visited_country + ' last summer' # we mixed literal and variable to get another string`\n",
    "* **changing case**\n",
    "    - `'I visited Spain last summer'.lower() // transform the string to lowercase`\n",
    "    - `'I visited Spain last summer'.upper() // transform the string to uppercase`\n",
    "    - `'I visited Spain last summer'.title() // transform the first character of each word to uppercase`\n",
    "- **using special characters**\n",
    "        * newline (\\n)\n",
    "        * tabs (\\t)"
   ]
  },
  {
   "cell_type": "code",
   "execution_count": 12,
   "id": "cffa1988",
   "metadata": {},
   "outputs": [
    {
     "name": "stdout",
     "output_type": "stream",
     "text": [
      "lower case: i visited spain last summer\n",
      "upper case: I VISITED SPAIN LAST SUMMER\n",
      "title: I Visited Spain Last Summer\n",
      "I visited:\n",
      "\tSpain\n",
      "\tGreece\n",
      "\tFrance.\n"
     ]
    }
   ],
   "source": [
    "#assign\n",
    "last_visited_country = 'Spain'\n",
    "\n",
    "# concatenate\n",
    "'I visited ' + last_visited_country + ' last summer' # we mixed literal and variable to get another string\n",
    "\n",
    "# change case\n",
    "print('lower case:', 'I visited Spain last summer'.lower()) # transform the string to lowercase\n",
    "print('upper case:', 'I visited Spain last summer'.upper()) # transform the string to uppercase\n",
    "print('title:', 'I visited Spain last summer'.title()) # transform the first character of each word to uppercase\n",
    "\n",
    "# special characters\n",
    "print('I visited:\\n\\tSpain\\n\\tGreece\\n\\tFrance.')"
   ]
  },
  {
   "cell_type": "code",
   "execution_count": 24,
   "id": "e37f3518",
   "metadata": {},
   "outputs": [
    {
     "name": "stdout",
     "output_type": "stream",
     "text": [
      "this is a \"bike\"!\n",
      "this is a \"bike\"!\n"
     ]
    }
   ],
   "source": [
    "print(\"this is a \\\"bike\\\"!\")\n",
    "print('this is a \"bike\"!')"
   ]
  },
  {
   "cell_type": "markdown",
   "id": "a8782e39",
   "metadata": {},
   "source": [
    "### Do it yourself (DIY)\n",
    "* Create two variables to store a company’s name and company’s location.\n",
    "* Print a message like Market info: “BNP is located in Paris (FR).”\n",
    "* Print the above message in lowercase, uppercase and titlecase.\n",
    "* Print the message with the location’s name within double quotes.\n",
    "* Print the message in two lines and the second line starting with tab such as:\n",
    "```\n",
    "Market info:\n",
    "\t\tBNP is located in Paris (FR).\n",
    "```"
   ]
  },
  {
   "cell_type": "markdown",
   "id": "d9db3142",
   "metadata": {},
   "source": [
    "## Numbers\n",
    "\n",
    "### Python supports 3 types of number data types\n",
    "* **integers** (**int**): combination of digits. Can be positive or negative\n",
    "    - `x = 174;  y = -258; w = +85`\n",
    "* **floating-point** numbers (**float**): combination of digits separated by point (**.**). Positive of negative\n",
    "    - `x = 174.32;  y = -0.258; w = +9.85`\n",
    "* **complex** numbers (**complex**): `x + yj` where `x` (_real_) and `y` (_imaginary_) are integers or floats\n",
    "    - `z = 956.25 + 6.5j`\n"
   ]
  },
  {
   "cell_type": "code",
   "execution_count": 19,
   "id": "29270235",
   "metadata": {},
   "outputs": [
    {
     "name": "stdout",
     "output_type": "stream",
     "text": [
      "\n"
     ]
    }
   ],
   "source": [
    "x = 174;  y = -258; w = +85\n",
    "x = 174.32;  y = -0.258; w = +9.85\n",
    "z = 956.25 + 6.5j\n",
    "\n",
    "print()"
   ]
  },
  {
   "cell_type": "markdown",
   "id": "12ef88da",
   "metadata": {},
   "source": [
    "![number data types](images/img1.png)"
   ]
  },
  {
   "cell_type": "markdown",
   "id": "ebb9b947",
   "metadata": {},
   "source": [
    "## Booleans\n",
    "\n",
    "**In Python, the boolean data type is either True or False**\n",
    "```\n",
    "is_closed = True;\n",
    "is_raining = False\n",
    "print(is_closed)\n",
    "```\n",
    "\n",
    "**Resulting from comparaison or logical operations**\n",
    "```\n",
    "result = (is_closed == False);\n",
    "print(result);\n",
    "```\n",
    "`(is_closed == True)` is equivalent to `is_closed`\n",
    "`(x == False)` is equivalent to `not x`\n"
   ]
  },
  {
   "cell_type": "markdown",
   "id": "425f4d20",
   "metadata": {},
   "source": [
    "**Integers and Floats as Booleans**\n",
    "* values not equal to 0 (_zero_) are considered as `True`\n",
    "```\n",
    "print(bool(-8) == True)\n",
    "print(bool(2.1) == False)\n",
    "```\n",
    "* otherwise they are False\n",
    "```\n",
    "print(0 == False)\n",
    "print(0 == True)\n",
    "```\n"
   ]
  },
  {
   "cell_type": "code",
   "execution_count": 20,
   "id": "1723fa55",
   "metadata": {},
   "outputs": [
    {
     "name": "stdout",
     "output_type": "stream",
     "text": [
      "True\n",
      "False\n"
     ]
    }
   ],
   "source": [
    "print(bool(-8) == True)\n",
    "print(bool(2.1) == False)"
   ]
  },
  {
   "cell_type": "markdown",
   "id": "4845bcc8",
   "metadata": {},
   "source": [
    "## Operators\n",
    "\n",
    "### Arithmetic operations on numbers\n",
    "\n",
    "![artithmetic operations on numbers](./images/img2.png)"
   ]
  },
  {
   "cell_type": "markdown",
   "id": "f66a3b79",
   "metadata": {},
   "source": [
    "### Comparing values\n",
    "The result is a boolean (`True` or `False`).\n",
    "```\n",
    "print(3.5 < 9.41)\n",
    "print('age' == 'AGE')\n",
    "```\n",
    "![](./images/img4.png)"
   ]
  },
  {
   "cell_type": "markdown",
   "id": "20cdde00",
   "metadata": {},
   "source": [
    "### Logical operations\n",
    "```\n",
    "(x == 3) and (y < 2)\n",
    "not (mystr == ‘’)\n",
    "(z == True) or (r > 8)\n",
    "```\n",
    "![](./images/img4.png)"
   ]
  },
  {
   "cell_type": "markdown",
   "id": "ec0a34cd",
   "metadata": {},
   "source": [
    "**In Python, any value has a built-in or user defined type**\n",
    "* data value in Python is an object meaning instance of class (_see later_)\n",
    "\n",
    "![](./images/img5.png)"
   ]
  },
  {
   "cell_type": "markdown",
   "id": "354b368f",
   "metadata": {},
   "source": [
    "## Types Operations\n",
    "\n",
    "### Getting the Python type of a specific value\n",
    "\n",
    "Retrieve the type of a value using the function `type()`\n",
    "```\n",
    "print(type(10.5))\n",
    "z = 7 + 3j; print(type(z))\n",
    "print(type(‘The process is documented.’))\n",
    "```\n",
    "\n",
    "### Try some examples and share them with the class\n",
    "what is the type of the function `print()`?\n",
    "\n",
    "\n",
    "### Checking if variable or value has a particular type\n",
    "We use the built-in function `isinstance()` to check the value type.  \n",
    "\n",
    "Some examples\n",
    "\n",
    "`isinstance('it is hot today', str)` might return `True`  \n",
    "`x = 3.5; isinstance(x, int)` might return `False`  \n",
    "`x = 3.5; isinstance(x, float)` might return `True`  \n",
    "`x = 3; isinstance(x, float)` might return `True`  "
   ]
  },
  {
   "cell_type": "markdown",
   "id": "4adf15f7",
   "metadata": {},
   "source": [
    "### Converting data type from one type to another one\n",
    "**Python has two types of Type Conversion**\n",
    "- **implicit type conversion**: you don’t need to do anything, Python does the job\n",
    "- **explicit type conversion**: you ask Python to change the data type  \n",
    "\n",
    "**Implicit type conversion**\n",
    "- when adding numbers\n",
    "    * int + float ⇒ float \n",
    "    * int + complex ⇒ complex\n",
    "    * float + complex ⇒ complex\n",
    "- try now to add a number and a string. What do you get?\n",
    "```\n",
    "a = “the last record is ” + 23.8\n",
    "print(a)\n",
    "```\n",
    "\n"
   ]
  },
  {
   "cell_type": "markdown",
   "id": "fa6bca6b",
   "metadata": {},
   "source": [
    "### Converting data type from one type to another one\n",
    "**Explicit type conversion**\n",
    "- we use built-in set of functions to convert data from one type to another one\n",
    "    * int(): convert data to int (integer)\n",
    "    * float(): convert data to float\n",
    "    * str(): convert data to str (string)\n",
    "    * complex(): convert data to complex\n",
    "- try now to add a number and a string\n",
    "`a = \"the last record is \" + str(23.8); print(a)`\n",
    "\n",
    "**DIY**  \n",
    "Try some examples:\n",
    "```\n",
    "bool('True’)\n",
    "int('0.58’)\n",
    "float(\"3.14\")\n",
    "complex(\"9j\")\n",
    "complex('.75 + 3j')\n",
    "float('1/4')\n",
    "```"
   ]
  },
  {
   "cell_type": "code",
   "execution_count": null,
   "id": "6bd0ef1b",
   "metadata": {},
   "outputs": [],
   "source": []
  }
 ],
 "metadata": {
  "kernelspec": {
   "display_name": "Python 3 (ipykernel)",
   "language": "python",
   "name": "python3"
  },
  "language_info": {
   "codemirror_mode": {
    "name": "ipython",
    "version": 3
   },
   "file_extension": ".py",
   "mimetype": "text/x-python",
   "name": "python",
   "nbconvert_exporter": "python",
   "pygments_lexer": "ipython3",
   "version": "3.8.10"
  }
 },
 "nbformat": 4,
 "nbformat_minor": 5
}

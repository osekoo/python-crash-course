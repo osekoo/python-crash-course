{
 "cells": [
  {
   "cell_type": "markdown",
   "id": "ffd1a717",
   "metadata": {},
   "source": [
    "# Function in Python\n",
    "\n",
    "## Objective\n",
    "\n",
    "* learn what a function is in Python\n",
    "\n",
    "* learn how to create and use function in Python program\n",
    "\n",
    "* learn scope of variables\n",
    "\n",
    "* make our programs modular\n"
   ]
  },
  {
   "cell_type": "markdown",
   "id": "bf329794",
   "metadata": {},
   "source": [
    "## What is a function in Python?\n",
    "\n",
    "* group of statements that has a name and performs a particular task\n",
    "\n",
    "* can have input(s) and can return output\n",
    "\n",
    "* can be called many times with different inputs\n",
    "\n",
    "* used to avoid repetition in the code\n"
   ]
  },
  {
   "cell_type": "markdown",
   "id": "519455e6",
   "metadata": {},
   "source": [
    "## Function definition\n",
    "\n",
    "* we use the keyword `def` to define a function\n",
    "\n",
    "* we use the keyword `return` to return an output. It is optional in case our function doesn't return any value.\n",
    "\n",
    "* syntax:\n",
    "```\n",
    "def function_name(inputs):\n",
    "\tstatements_block\n",
    "\treturn output\n",
    "```\n",
    "\n",
    "* example:"
   ]
  },
  {
   "cell_type": "code",
   "execution_count": 1,
   "id": "6e5f2b41",
   "metadata": {},
   "outputs": [
    {
     "name": "stdout",
     "output_type": "stream",
     "text": [
      "The surface of the circle with radius 2.8 = 24.630086404143974\n"
     ]
    }
   ],
   "source": [
    "import math\n",
    "\n",
    "def circle_area(radius):\n",
    "    radius_square = radius * radius\n",
    "    area = radius_square*math.pi\n",
    "    print(f'The surface of the circle with radius {radius} = {area}')\n",
    "\n",
    "my_radius = 2.8\n",
    "circle_area(my_radius)\n"
   ]
  },
  {
   "cell_type": "code",
   "execution_count": 3,
   "id": "5834725f",
   "metadata": {},
   "outputs": [
    {
     "name": "stdout",
     "output_type": "stream",
     "text": [
      "The surface of the rectangle with width:5 and height:7.6 = 38.0\n"
     ]
    }
   ],
   "source": [
    "def rectangle_area(width, height):\n",
    "    area = width * height;\n",
    "    return area\n",
    "\n",
    "w, h = 5, 7.6\n",
    "s = rectangle_area(w, h)\n",
    "print(f'The surface of the rectangle with width:{w} and height:{h} = {s}')"
   ]
  },
  {
   "cell_type": "code",
   "execution_count": 6,
   "id": "dfc9c368",
   "metadata": {},
   "outputs": [
    {
     "name": "stdout",
     "output_type": "stream",
     "text": [
      "rect_area: 38.0\n",
      "scaled_rect_area: 114.0\n"
     ]
    }
   ],
   "source": [
    "def scale_area(area, scale):\n",
    "    sa = scale * area\n",
    "    return sa\n",
    "\n",
    "scaled_rect = scale_area(s, 3.)\n",
    "print('rect_area:', s)\n",
    "print('scaled_rect_area:', scaled_rect)"
   ]
  },
  {
   "cell_type": "code",
   "execution_count": 9,
   "id": "e3c72fa5",
   "metadata": {},
   "outputs": [],
   "source": [
    "def rectangle_scaled_area(width, height, scale):\n",
    "    width2 = width * scale\n",
    "    height2 = height * scale\n",
    "    area = rectangle_area(width2, height2)\n",
    "    return area"
   ]
  },
  {
   "cell_type": "code",
   "execution_count": 15,
   "id": "845e9edc",
   "metadata": {},
   "outputs": [],
   "source": [
    "def record(stop):\n",
    "    end = False\n",
    "    while not end:\n",
    "        s_w = input('width? ')\n",
    "        end = (s_w == stop)\n",
    "        if not end:\n",
    "            s_h = input('height? ')\n",
    "            s_s = input('scale? ')\n",
    "\n",
    "            area = rectangle_scaled_area(float(s_w), float(s_h), float(s_s))\n",
    "            print(f'area of rect({s_w}, {s_h}, {s_s}) = {area}')\n",
    "\n",
    "    print(\"Bye!\")"
   ]
  },
  {
   "cell_type": "code",
   "execution_count": 19,
   "id": "0d4328b1",
   "metadata": {},
   "outputs": [
    {
     "ename": "NameError",
     "evalue": "name 'record_2' is not defined",
     "output_type": "error",
     "traceback": [
      "\u001b[0;31m---------------------------------------------------------------------------\u001b[0m",
      "\u001b[0;31mNameError\u001b[0m                                 Traceback (most recent call last)",
      "\u001b[0;32m/tmp/ipykernel_71611/457801156.py\u001b[0m in \u001b[0;36m<module>\u001b[0;34m\u001b[0m\n\u001b[0;32m----> 1\u001b[0;31m \u001b[0mrecord_2\u001b[0m\u001b[0;34m(\u001b[0m\u001b[0mx\u001b[0m\u001b[0;34m)\u001b[0m\u001b[0;34m\u001b[0m\u001b[0;34m\u001b[0m\u001b[0m\n\u001b[0m\u001b[1;32m      2\u001b[0m \u001b[0;34m\u001b[0m\u001b[0m\n\u001b[1;32m      3\u001b[0m \u001b[0;34m\u001b[0m\u001b[0m\n\u001b[1;32m      4\u001b[0m \u001b[0mclient1_stop\u001b[0m \u001b[0;34m=\u001b[0m \u001b[0;34m'0'\u001b[0m\u001b[0;34m\u001b[0m\u001b[0;34m\u001b[0m\u001b[0m\n\u001b[1;32m      5\u001b[0m \u001b[0mrecord\u001b[0m\u001b[0;34m(\u001b[0m\u001b[0mclient1_stop\u001b[0m\u001b[0;34m)\u001b[0m\u001b[0;34m\u001b[0m\u001b[0;34m\u001b[0m\u001b[0m\n",
      "\u001b[0;31mNameError\u001b[0m: name 'record_2' is not defined"
     ]
    }
   ],
   "source": [
    "client1_stop = '0'\n",
    "record(client1_stop)"
   ]
  },
  {
   "cell_type": "code",
   "execution_count": 17,
   "id": "932989c6",
   "metadata": {},
   "outputs": [
    {
     "name": "stdout",
     "output_type": "stream",
     "text": [
      "width? 1\n",
      "height? 2\n",
      "scale? 3\n",
      "area of rect(1, 2, 3) = 18.0\n",
      "width? 0\n",
      "height? 2\n",
      "scale? 1\n",
      "area of rect(0, 2, 1) = 0.0\n",
      "width? -1\n",
      "Bye!\n"
     ]
    }
   ],
   "source": [
    "client2_stop = '-1'\n",
    "record(client2_stop)"
   ]
  },
  {
   "cell_type": "markdown",
   "id": "8ceeb24f",
   "metadata": {},
   "source": [
    "## Scope of variables\n",
    "\n",
    "* **scope of variable** is the block of statements where the variable is recognized\n",
    "\n",
    "* variables defined inside a function are not visible outside the function: **local scope**\n",
    "\n",
    "* variables defined outside of a function could be used inside the function: **global scope**\n",
    "\n",
    "* we use Python keyword `global` to declare **global variables**\n"
   ]
  },
  {
   "cell_type": "markdown",
   "id": "566954d3",
   "metadata": {},
   "source": [
    "## Practice"
   ]
  },
  {
   "cell_type": "code",
   "execution_count": 24,
   "id": "450b6ad0",
   "metadata": {},
   "outputs": [
    {
     "name": "stdout",
     "output_type": "stream",
     "text": [
      "11\n",
      "23\n"
     ]
    }
   ],
   "source": [
    "x  = 23\n",
    "\n",
    "def record_2(a):\n",
    "    x = 6\n",
    "    return a + x\n",
    "\n",
    "y = record_2(5)\n",
    "print(y)\n",
    "print(x)"
   ]
  },
  {
   "cell_type": "markdown",
   "id": "a866f8c8",
   "metadata": {},
   "source": [
    "## Recursive function\n",
    "\n",
    "* a recursive function is a function that calls itself\n",
    "\n",
    "* it has an _initial state_ and _final state_. The states are defined by checking boolean statements.\n",
    "\n",
    "* example\n",
    "```\n",
    "def factorial(n):\n",
    "\tif n == 1:\n",
    "\t\treturn 1\n",
    "\telse:\n",
    "\t\treturn n*factorial(n-1)\n",
    "```\n",
    "\n",
    "* (+): code is clean\n",
    "* (-): expensive and inefficient in certain cases\n"
   ]
  },
  {
   "cell_type": "markdown",
   "id": "a3637964",
   "metadata": {},
   "source": [
    "## Lambda function\n",
    "\n",
    "* `lambda` function is defined without a name\n",
    "\n",
    "* we use Python keyword `lambda` to define lambda function\n",
    "\n",
    "* `lambda` function can be assigned to a variable\n",
    "\n",
    "* syntax\n",
    "```\n",
    "variable = lambda inputs: statements\n",
    "print(variable(input_values))\n",
    "```\n",
    "\n",
    "* example"
   ]
  },
  {
   "cell_type": "code",
   "execution_count": 25,
   "id": "22b3bfcc",
   "metadata": {},
   "outputs": [
    {
     "name": "stdout",
     "output_type": "stream",
     "text": [
      "49\n"
     ]
    }
   ],
   "source": [
    "square = lambda x: x*x\n",
    "print(square(7))"
   ]
  },
  {
   "cell_type": "code",
   "execution_count": 26,
   "id": "f80a8fab",
   "metadata": {},
   "outputs": [
    {
     "name": "stdout",
     "output_type": "stream",
     "text": [
      "6\n"
     ]
    }
   ],
   "source": [
    "rect_area = lambda w, h: w * h\n",
    "\n",
    "print(rect_area(2, 3))"
   ]
  },
  {
   "cell_type": "markdown",
   "id": "1cfe21dc",
   "metadata": {},
   "source": [
    "* `lambda` function can be used as argument of another function\n",
    "e.g: `map()` and `filter()` take lambda function as argument and apply transformation on list"
   ]
  },
  {
   "cell_type": "markdown",
   "id": "ae3ab44c",
   "metadata": {},
   "source": [
    "## DIY\n",
    "\n",
    "* create a function taking a list of numbers and returns a list of squared\n",
    "\n",
    "* create a function taking an integer $n$ and return a list of _fibonacci_ $n-first$ terms"
   ]
  },
  {
   "cell_type": "code",
   "execution_count": null,
   "id": "43e0b723",
   "metadata": {},
   "outputs": [],
   "source": []
  }
 ],
 "metadata": {
  "kernelspec": {
   "display_name": "Python 3 (ipykernel)",
   "language": "python",
   "name": "python3"
  },
  "language_info": {
   "codemirror_mode": {
    "name": "ipython",
    "version": 3
   },
   "file_extension": ".py",
   "mimetype": "text/x-python",
   "name": "python",
   "nbconvert_exporter": "python",
   "pygments_lexer": "ipython3",
   "version": "3.8.10"
  }
 },
 "nbformat": 4,
 "nbformat_minor": 5
}

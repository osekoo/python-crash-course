{
 "cells": [
  {
   "cell_type": "markdown",
   "id": "59e1ee3f",
   "metadata": {},
   "source": [
    "# Input and Output\n",
    "\n",
    "## Objective\n",
    "* learn how to print out data to the screen for the user\n",
    "* learn how to read input from the user\n",
    "* learn how to operate with files in Python\n"
   ]
  },
  {
   "cell_type": "markdown",
   "id": "54ffd7d4",
   "metadata": {},
   "source": [
    "## Outputting data to the user’s screen\n",
    "\n",
    "**We use the built-in function `print()` to output data to the screen**\n",
    "```\n",
    "print(‘the vote is closed.’)\n",
    "```\n",
    "\n",
    "**print()** can take multiple values (run `help(print)` for more details)\n",
    "* by default the values are outputted separated by <u>whitespace</u>.\n",
    "```\n",
    "print(‘Today’, ‘the market was closed at’, ‘5:30 PM’)\n",
    "```\n",
    "\n",
    "* you can control the way `print()` formats the values\n",
    "    - we use `sep=` to define the separator used between values (`' '` by default)\n",
    "```\n",
    "print(‘Today’, ‘the market was closed at’, ‘5:30 PM’, sep=’:’)\n",
    "```\n",
    "    - we use end= to specify the ending character (‘\\n’ by default)\n",
    "```\n",
    "print(‘The CEO\\’s name is’, end=’:’);\n",
    "print(‘John Doe’)\n",
    "```"
   ]
  },
  {
   "cell_type": "markdown",
   "id": "153b7d6d",
   "metadata": {},
   "source": [
    "## Formatting output\n",
    "We use `str.format()` to format our output to make it elegant.  \n",
    "So we can combine a static string and variables using a placeholder (`{}`)\n",
    "* by default the variables conserve the placeholders order\n",
    "```\n",
    "vol = 0.24;\n",
    "mean = 48.3;\n",
    "s = 'The volatility is: {} and the mean reversion is: {}'.format(vol, mean)\n",
    "print(s)\n",
    "```\n",
    "* you can specify the placeholders’ order\n",
    "```\n",
    "s = 'The volatility is: {1} and the mean reversion is: {0}'.format(mean, vol)\n",
    "print(s)\n",
    "```\n",
    "* you can name the placeholders\n",
    "```\n",
    "s = ‘The volatility is: {v} and the mean reversion is: {m}’.format(m=mean, v=vol)\n",
    "print(s)\n",
    "```\n",
    "\n",
    "We use also `f-string` style to format elegantly strings. With f-string we put directly the variables inside the placeholders\n",
    "```\n",
    "vol = 0.24; mean = 48.3;\n",
    "s = f'The volatility is: {vol} and the mean reversion is: {mean}'; print(s)\n",
    "```"
   ]
  },
  {
   "cell_type": "markdown",
   "id": "be87847f",
   "metadata": {},
   "source": [
    "## Reading data from the user\n",
    "We use the built-in function `input()` to read input from the console\n",
    "\n",
    "* input() takes in argument the text we want to display on the console\n",
    "\n",
    "* input() returns the text (string) the user has entered to the program \n",
    "```\n",
    "age = input('How old are you? ')\n",
    "print('You are ', age)\n",
    "```\n",
    "\n",
    "* now check the type of the variable age (type(age)). What do you get?\n",
    "\n",
    "* you can convert the user input to the target type using type conversion\n",
    "```\n",
    "str_age = input('How old are you? ')\n",
    "age = int(str_age)\n",
    "print('You are ', age)\n",
    "```"
   ]
  },
  {
   "cell_type": "code",
   "execution_count": 2,
   "id": "2ef04db2",
   "metadata": {},
   "outputs": [
    {
     "name": "stdout",
     "output_type": "stream",
     "text": [
      "How old are you? I don't know!\n",
      "You are  I don't know!\n"
     ]
    }
   ],
   "source": [
    "age = input('How old are you? ')\n",
    "print('You are ', age)"
   ]
  },
  {
   "cell_type": "markdown",
   "id": "8912e72c",
   "metadata": {},
   "source": [
    "**We are ready to make an interactive program!**"
   ]
  },
  {
   "cell_type": "markdown",
   "id": "b2702938",
   "metadata": {},
   "source": [
    "## DIY 1\n",
    "\n",
    "**Getting data from the user (read from console)**\n",
    "* a name of a company stored into the variable called `cpny`\n",
    "* the company opening price stored into the variable `opn_price`\n",
    "* the company closing price stored into the variable `cls_price`\n",
    "\n",
    "**Cleaning user input**\n",
    "* prices should be positive floats\n",
    "* remove leading and trailing whitespaces from the company's name\n",
    "* transform the company name into uppercase \n",
    "\n",
    "**Output to the user the following information**\n",
    "* The company $cpny$ has opened at 58\\\\$ and closed at 59.4\\\\$.\n",
    "* Its daily change in price is about  1.4\\\\$.\n",
    "* The delta is around 2.4\\\\%\n",
    "* Did the price increase? True\n",
    "\n",
    "**Ask now the user for the size of his position on the given company**  \n",
    "Output his PNL:\n",
    "* Your position PNL on  $cpny$ is +85685\\\\$\n",
    "\n",
    "Note: _replace $cpny$ by the company's name entered by the user_"
   ]
  },
  {
   "cell_type": "code",
   "execution_count": 22,
   "id": "01804597",
   "metadata": {},
   "outputs": [
    {
     "name": "stdout",
     "output_type": "stream",
     "text": [
      "company name? bnp\n",
      "open price? 10\n",
      "close price? 11\n",
      "positive price?  True\n",
      "clean name:  bnp\n",
      "name to upper case:  BNP\n",
      "The company bnp has opened at 10$ and closed at 11$\n",
      "Its daily change in price is about -1.0$.\n"
     ]
    }
   ],
   "source": [
    "# Getting data\n",
    "cpn_name = input('company name? ')\n",
    "opn_price = input('open price? ')\n",
    "cls_price = input('close price? ')\n",
    "\n",
    "# Cleaning data\n",
    "check_price = (float(opn_price) > 0)\n",
    "print('positive price? ', check_price)\n",
    "\n",
    "clean_name = cpn_name.strip()\n",
    "print('clean name: ', clean_name)\n",
    "\n",
    "print('name to upper case: ', clean_name.upper())\n",
    "\n",
    "# formatting data\n",
    "delta = float(cls_price) - float(opn_price)\n",
    "print(f'The company {clean_name} has opened at {opn_price}$ and closed at {cls_price}$')\n",
    "print(f'Its daily change in price is about {str(delta)}$.')"
   ]
  },
  {
   "cell_type": "markdown",
   "id": "fc63b4a6",
   "metadata": {},
   "source": [
    "## DIY 2\n",
    "\n",
    "**Getting data from the user (read from console)**\n",
    "* read succevily two numbers ($a$ and $b$)\n",
    "* read an arithmetic operator ($op$) (+, -, /, *, **, //, %)\n",
    "\n",
    "** Output the following text:\n",
    "* $a$ $op$ $b$ = $result$\n",
    "* e.g: `8.2 + 9 = 17.2`\n",
    "\n",
    "**Same for logical operators (or, and, not)\n"
   ]
  },
  {
   "cell_type": "markdown",
   "id": "7513a392",
   "metadata": {},
   "source": [
    "## Opening files in Python\n",
    "\n",
    "We use the Python built-in function `open()` to open a file\n",
    "\n",
    "* `open()` returns an object (_handler_)\n",
    "\n",
    "* the _handler_ is used to operate on the file (_read_, _write_, _close_)\n",
    "\n",
    "* `open()` takes two parameters\n",
    "    - the *file name* (file location on the disk)\n",
    "    - and the *mode* specifying which operation we want to apply\n",
    "    - `open(filename, mode)`\n",
    "```\n",
    "my_file = open('people.txt', 'r')\n",
    "```\n",
    "\n",
    "## File operations modes\n",
    "\n",
    "![](./images/img6.png)"
   ]
  },
  {
   "cell_type": "markdown",
   "id": "e84db08a",
   "metadata": {},
   "source": [
    "## Closing files in Python\n",
    "\n",
    "we should close the file (handle) after performing operations on it\n",
    "\n",
    "we use the built-in function close() to close a file\n",
    "\n",
    "```\n",
    "my_file = open('prices.txt', 'r')\n",
    "# reading operations\n",
    "my_file.close()\n",
    "```\n",
    "\n",
    "we can also use `with...as` statement to safely close a file after usage\n",
    "```\n",
    "with open('prices.txt', 'r') as my_file:\n",
    "\t# reading operations\n",
    "```\n",
    "\n"
   ]
  },
  {
   "cell_type": "markdown",
   "id": "a9ce8401",
   "metadata": {},
   "source": [
    "## Writing to files in Python\n",
    "we need to open the file with **`w`** (write) or **`a`** (append) mode  \n",
    "\n",
    "* we use the function **`write()`** to output a content into a file  \n",
    "\n",
    "```\n",
    "with open('prices.txt', 'w') as my_file:\n",
    "\tmy_file.write('Amazon,1874\\n')\n",
    "\tmy_file.write('Google,2006')\n",
    "```"
   ]
  },
  {
   "cell_type": "code",
   "execution_count": 2,
   "id": "3e8039ff",
   "metadata": {},
   "outputs": [],
   "source": [
    "with open('prices.csv', 'w') as my_file:\n",
    "    my_file.write('Amazon,1874\\n')\n",
    "    my_file.write('Google,2006\\n')\n",
    "    my_file.write('Microsoft,897\\n')\n",
    "    my_file.write('Apple,1900\\n')\n",
    "    my_file.write('Cisco,234')"
   ]
  },
  {
   "cell_type": "markdown",
   "id": "6d0a68bb",
   "metadata": {},
   "source": [
    "## Reading from files in Python\n",
    "we need to open the file with **`r`** (read) mode  \n",
    "\n",
    "* we use the function `read()` to read `sequentially` a content from a file\n",
    "\n",
    "* by default, `read()` returns the whole content of a file\n",
    "\n",
    "    - but actually, it returns the remaining content of a file from the current position of the handle\n",
    "\n",
    "    - `read()` returns an empty string ('') at the end of the file\n",
    "\n",
    "```\n",
    "with open('prices.txt', 'r') as my_file:\n",
    "\tprint(my_file.read()) # output the whole content of the file\n",
    "```\n",
    "\n",
    "* we use `readline()` to read line by line the content of a file\n",
    "\n",
    "    - `readline()` returns an empty string (`''`) at the end of the file\n",
    "\n",
    "* example\n",
    "```\n",
    "with open('prices.txt', 'r') as my_file:\n",
    "\tprint(my_file.readline()) #read the first line\n",
    "\tprint(my_file.readline()) #read the second line \n",
    "\tprint(my_file.readline()) #returns empty string\n",
    "```\n",
    "\n",
    "* we can read line by line the content of a file within a **while loop** using **readline()** function until `readline()` returns an empty string\n",
    "\n",
    "```\n",
    "with open('prices.txt', 'r') as my_file:\n",
    "\tline = myfile.readline()\n",
    "\twhile line != '':\n",
    "\t\tprint(line)\n",
    "\t\tline = my_file.readline()\n",
    "```"
   ]
  },
  {
   "cell_type": "code",
   "execution_count": 10,
   "id": "bac8c108",
   "metadata": {},
   "outputs": [
    {
     "name": "stdout",
     "output_type": "stream",
     "text": [
      "Amazon,1874\n",
      "Google,2006\n",
      "\n",
      "Microsoft,897\n",
      "\n",
      "Apple,1900\n",
      "\n",
      "Cisco,234\n",
      "\n"
     ]
    }
   ],
   "source": [
    "with open('prices.csv', 'r') as my_file:\n",
    "    print(my_file.readline(), end='')\n",
    "    print(my_file.readline()) #read the first line\n",
    "    print(my_file.readline()) #read the second line \n",
    "    print(my_file.readline()) #read the second line \n",
    "    print(my_file.readline()) #read the second line \n",
    "    print(my_file.readline()) #returns empty string\n"
   ]
  },
  {
   "cell_type": "code",
   "execution_count": 15,
   "id": "bffe6a53",
   "metadata": {},
   "outputs": [
    {
     "name": "stdout",
     "output_type": "stream",
     "text": [
      "Item:\n",
      "\t-year: 2006\n",
      "\t-name: PC\n",
      "\n"
     ]
    }
   ],
   "source": [
    "with open('items.csv', 'w') as my_items:\n",
    "    my_items.write('2006,PC\\n')\n",
    "    my_items.write('2015,Mouse\\n')\n",
    "    my_items.write('2017,USB Key')\n",
    "    \n",
    "with open('items.csv', 'r') as my_items:    \n",
    "    year = my_items.readline(4)\n",
    "    my_items.readline(1)\n",
    "    name = my_items.readline()\n",
    "    output = f'Item:\\n\\t-year: {year}\\n\\t-name: {name}'\n",
    "    print(output)"
   ]
  },
  {
   "cell_type": "markdown",
   "id": "00445db0",
   "metadata": {},
   "source": [
    "## Further operations on files\n",
    "\n",
    "We use the class **`Path`** available in the module **`pathlib`** to perform some high level operations on files\n",
    "\n",
    "```\n",
    "from pathlib import Path\n",
    "\n",
    "my_file = Path('prices.txt')\n",
    "print(my_file.is_file()) # test if the given file is a file\n",
    "print(my_file.is_dir()) # test if the given file is a folder\n",
    "print(my_file.exists()) # test if the given file is a file\n",
    "```\n",
    "\n",
    "Further documentation at https://docs.python.org/3/tutorial/inputoutput.html#reading-and-writing-files "
   ]
  },
  {
   "cell_type": "markdown",
   "id": "da476820",
   "metadata": {},
   "source": [
    "## DIY (File 1)\n",
    "* user is prompted to enter the name of a company and its creation date until he provides an empty string\n",
    "\n",
    "* the company's name and its creation date are separated by whitespace (' ') e.g CISCO 1984\n",
    "\n",
    "* the user inputs are saved into a file called entities.txt\n",
    "\n",
    "* write a function that outputs to the user the content of this file\n"
   ]
  },
  {
   "cell_type": "markdown",
   "id": "3cbe5fdb",
   "metadata": {},
   "source": [
    "## DIY (based on DIY File 1)\n",
    "\n",
    "* write a function taking company name as argument and returns its creation date\n",
    "\n",
    "* user is prompted to enter a company name and the program output its creation date\n",
    "    - think about the case the company doesn't exist\n",
    "\n",
    "* output to the user the oldest company in our database\n",
    "\n"
   ]
  },
  {
   "cell_type": "code",
   "execution_count": null,
   "id": "340d60e1",
   "metadata": {},
   "outputs": [],
   "source": []
  }
 ],
 "metadata": {
  "kernelspec": {
   "display_name": "Python 3 (ipykernel)",
   "language": "python",
   "name": "python3"
  },
  "language_info": {
   "codemirror_mode": {
    "name": "ipython",
    "version": 3
   },
   "file_extension": ".py",
   "mimetype": "text/x-python",
   "name": "python",
   "nbconvert_exporter": "python",
   "pygments_lexer": "ipython3",
   "version": "3.8.10"
  }
 },
 "nbformat": 4,
 "nbformat_minor": 5
}
